{
 "cells": [
  {
   "cell_type": "markdown",
   "metadata": {},
   "source": [
    "# Analysis 2: Foundations of modeling 2\n",
    "\n",
    "## Functions: non-parametric functions\n",
    "\n",
    "In any programing language, a function is a block of statements that performs a specific task.\n",
    "Upon each call, the function will execute defined task, allowing us to avoid code repetition,\n",
    "as well as making entire structure easier to read and debug.  Also, we can further simplify\n",
    "complex programs by breaking it into functions and grouping them into modules.\n",
    "A Python function consists of function definition and a function call.  Function definition is\n",
    "where the functionality of a function is defined.  It consists of:\n",
    "- function name,\n",
    "- function arguments,\n",
    "- docstring,\n",
    "- code statement(s), and\n",
    "- the return statement.\n",
    "\n",
    "With a function call we execute the function in the program.\n",
    "\n",
    "This notebook contains:  \n",
    "- [Function definition - syntax](#def)\n",
    "- [Function call](#call)\n",
    "- [Dir function](#dir)\n",
    "- [Our first function](#first)\n",
    "- [Multiple statement in functions](#mult)\n",
    "- [Value return](#ret)\n",
    "- [Help and docstring](#help)\n",
    "- [Global and local variables](#glob)\n",
    "\n",
    "---\n",
    "\n",
    "<a id='def'></a>\n",
    "### Function definition - syntax\n",
    "Function definition in Python starts with the keyword `def`. After `def`, the function name is given,\n",
    "followed by parenthesis.  Inside parentheses, function arguments are listed, separated by\n",
    "commas (,).  To signal Python the end of function definition, a colon (:) is used.\n",
    "Next, comes the body of a function.  All statements in the body a function must be indented. \n",
    "The body of a function consists of a docstring, one or more statements, and at the\n",
    "end, a return expression.  In Python, docstrings are optional.  If a function is not returning a value,\n",
    "return expression can be omitted.\n",
    "```Python\n",
    "def function_name (argument1, argument2, ...):\n",
    "    \"\"\"docstring\"\"\"\n",
    "    statements(s)\n",
    "    return expression\n",
    "```\n",
    "---\n",
    "<a id='call'></a>\n",
    "### Function call\n",
    "Once a function has been defined, it can be called anywhere in the program by using its name,\n",
    "and then supplying corresponding arguments for parameters used in the function definition.\n",
    "The basic syntax for function call in Python is as the following:\n",
    "```Python\n",
    "function_name (argument1, argument2, ...)\n",
    "```\n",
    "---\n",
    "<a id='dir'></a>\n",
    "### Dir function\n",
    "`dir()` is a powerful built-in function, used to obtain attributes and methods of any Python\n",
    "object.  If used without parameters, we can see available objects in the main module.\n",
    "\n",
    "---\n",
    "<a id='first'></a>\n",
    "### Our first function\n",
    "We will create our first, non-parametric function that doesn’t return a value. Let’s say we want\n",
    "a function that will output some text (e.g. “hello world”) when invoked. To do this, we have\n",
    "to define such function, and write a statement in the body outputting the text.\n",
    "\n",
    "##### Example - hello world function:"
   ]
  },
  {
   "cell_type": "code",
   "execution_count": null,
   "metadata": {},
   "outputs": [],
   "source": [
    "# This is a code cell.  To execute this cell, click on it, and press Shift+Enter\n",
    "\n",
    "def hello():  # This tells Python we define \"hello\" function\n",
    "    print(\"Hello world\")  # Print statement outputting \"Hello world\""
   ]
  },
  {
   "cell_type": "markdown",
   "metadata": {},
   "source": [
    "To call the function we just defined, type its name in the main program or in the console."
   ]
  },
  {
   "cell_type": "code",
   "execution_count": null,
   "metadata": {},
   "outputs": [],
   "source": [
    "# Another code cell.  Again, click on it, press Shift+Enter, and see what happens.\n",
    "\n",
    "hello()  # This will call the hello() function, and show \"Hello world\""
   ]
  },
  {
   "cell_type": "markdown",
   "metadata": {},
   "source": [
    "#### Experiment\n",
    "- In the code cell below type: `dir()`. Can you see the function `hello`?\n",
    "- Also try calling the function `hello()` without using parenthesis (use only: `hello`).\n",
    "What do you get?"
   ]
  },
  {
   "cell_type": "code",
   "execution_count": null,
   "metadata": {},
   "outputs": [],
   "source": [
    "# Here are two empty code cells; use them to experiment.  \n",
    "# You can type any Python code in here, and remember: execute it by pressing Shift+Enter.\n"
   ]
  },
  {
   "cell_type": "code",
   "execution_count": null,
   "metadata": {},
   "outputs": [],
   "source": []
  },
  {
   "cell_type": "code",
   "execution_count": null,
   "metadata": {},
   "outputs": [],
   "source": [
    "# One more tip: sometimes a programming mistake makes your code hang.  \n",
    "# You can interrupt it by clicking on \"Interrupt Kernel\" in the \"Kernel\" menu at the top.\n",
    "# Try this with the following code:\n",
    "\n",
    "while True:  # Oops, infinite loop\n",
    "    pass  # `pass` does absolutely nothing, so we are stuck in neverending nothingness."
   ]
  },
  {
   "cell_type": "markdown",
   "metadata": {},
   "source": [
    "---\n",
    "<a id='mult'></a>\n",
    "### Multiple statements in functions\n",
    "Functions are subprograms in their own right. They can contain a single statement, or as\n",
    "many as needed. Good programming practice suggests to write functions with 5 – 11\n",
    "statements, although, another general rule is to divide the program into logical\n",
    "subcomponents via functions (e.g. function that handles reading values from the user,\n",
    "function that processes values, function that outputs value to the user, etc.). If a function has\n",
    "too many statements, it is advisable to further decompose it into sub-functions. It makes code\n",
    "clean, easy to read and debug.\n",
    "\n",
    "Let’s write another non-parametric function that contains multiple statements. Assume that\n",
    "you write a program that handles multiple inputs from the user, and you want to separate\n",
    "them by outputting characters to the console.\n",
    "\n",
    "##### Example – section break function:"
   ]
  },
  {
   "cell_type": "code",
   "execution_count": null,
   "metadata": {},
   "outputs": [],
   "source": [
    "def section_break():  # We define section_break function\n",
    "    print('X' * 21)  # Print Xes\n",
    "    print('X' * 3, \"section break\", 'X' * 3)  # Print more text\n",
    "    print('X' * 21)  # Print Xes"
   ]
  },
  {
   "cell_type": "markdown",
   "metadata": {},
   "source": [
    "Add some arbitrary print statements in the main program and separate them with section\n",
    "breaks."
   ]
  },
  {
   "cell_type": "code",
   "execution_count": null,
   "metadata": {},
   "outputs": [],
   "source": [
    "print(\"Program started\")\n",
    "section_break() # call to our function section_break\n",
    "x = 5\n",
    "print(\"x =\",x)\n",
    "section_break() # call to our function section_break 2nd time\n",
    "s = input(\"Input string s:\")\n",
    "print(\"You entered:\",s)\n",
    "section_break() # call to our function section_break 3rd time\n",
    "print(\"Program ends\")\n",
    "section_break() # call to our function section_break 4th time"
   ]
  },
  {
   "cell_type": "markdown",
   "metadata": {},
   "source": [
    "---\n",
    "<a id='ret'></a>\n",
    "### Value return\n",
    "The examples used above are simple illustrations of subprograms. Typically, you will want a\n",
    "function to return a value. This is accomplished by adding a return statement followed by an\n",
    "expression. Python will evaluate that expression, and when the function is called will return\n",
    "it.\n",
    "In Analysis 1 you wrote several programs which required multiple inputs from the user. Let’s\n",
    "try to handle that part via functions.\n",
    "##### Example – user input as return value:"
   ]
  },
  {
   "cell_type": "code",
   "execution_count": null,
   "metadata": {},
   "outputs": [],
   "source": [
    "def section_break():\n",
    "    print('X' * 21)\n",
    "    print('X' * 3, \"section break\", 'X' * 3)\n",
    "    print('X' * 21)\n",
    "\n",
    "def get_string():\n",
    "    print(\"Please input string value:\")\n",
    "    s = input()\n",
    "    return s\n",
    "\n",
    "def get_integer():\n",
    "    print(\"Please input integer value:\")\n",
    "    i = int(input())\n",
    "    return i\n",
    "\n",
    "text = get_string()\n",
    "print (\"You entered\", text)\n",
    "section_break()\n",
    "a = get_integer()\n",
    "b = get_integer()\n",
    "c = a + b\n",
    "print(a, \"+\", b, \"=\", c)"
   ]
  },
  {
   "cell_type": "markdown",
   "metadata": {},
   "source": [
    "#### Experiment\n",
    "- Add a function that will ask the user to input two values and return the sum.\n",
    "- Add a function that will ask the user to input a list and return it."
   ]
  },
  {
   "cell_type": "code",
   "execution_count": null,
   "metadata": {},
   "outputs": [],
   "source": []
  },
  {
   "cell_type": "code",
   "execution_count": null,
   "metadata": {},
   "outputs": [],
   "source": []
  },
  {
   "cell_type": "markdown",
   "metadata": {},
   "source": [
    "---\n",
    "<a id='help'></a>\n",
    "### Help and docstring\n",
    "Docstring is the first statement of the function body. It is a documentation string that explains\n",
    "in brief about the function and its operation. Docstring begins with three double quotes (\"),\n",
    "the string itself, and thee more double quotes (\") to close it. Docstring is optional.\n",
    "##### Example – a function with a docstring:"
   ]
  },
  {
   "cell_type": "code",
   "execution_count": null,
   "metadata": {},
   "outputs": [],
   "source": [
    "def example():\n",
    "    \"\"\"This is an example that outputs one line to stdout\"\"\"\n",
    "    print(\"display message\")"
   ]
  },
  {
   "cell_type": "markdown",
   "metadata": {},
   "source": [
    "There are two options to access docstrings.  In a console, call the `help()` function and between the\n",
    "parentheses enter the function whose docstring you want to read.\n",
    "Note: passing functions like this requires a function reference, hence no parentheses after the function name are\n",
    "used.  This will be explained in more detail when higher-ordered functions are covered. For\n",
    "now, memorize it as a rule.\n",
    "\n",
    "Alternatively, you can use a reference to the function and then the attribute `.__doc__`.  It is also\n",
    "demonstrated here, but for now not advised.\n",
    "#### Example – displaying docstring\n",
    "In console / code cell type:\n",
    "- `help(dir)`\n",
    "- `help(example)`\n",
    "\n",
    "Or you can use:\n",
    "- `print(example.__doc__)`\n",
    "\n",
    "#### Experiment:\n",
    "- Add your own function with a docstring and access it with help.\n",
    "- Use help to read documentation for the built-in functions sum and max."
   ]
  },
  {
   "cell_type": "code",
   "execution_count": null,
   "metadata": {},
   "outputs": [],
   "source": []
  },
  {
   "cell_type": "code",
   "execution_count": null,
   "metadata": {},
   "outputs": [],
   "source": []
  },
  {
   "cell_type": "code",
   "execution_count": null,
   "metadata": {},
   "outputs": [],
   "source": []
  },
  {
   "cell_type": "markdown",
   "metadata": {},
   "source": [
    "---\n",
    "<a id='glob'></a>\n",
    "### Global and local variables\n",
    "To understand the difference between global and local variables, we have to explain the\n",
    "scope first. The **scope** of a variable determines its lifetime, and where in the program it is\n",
    "accessible. Depending on those, we distinguish:\n",
    "- global variables,\n",
    "- local variables.\n",
    "So far, we have been using only global variables.  **Global variables** are declared outside of\n",
    "functions. They are available from the moment of declaration, and accessible from any part\n",
    "of the program. The lifetime of a global variable is until the termination of the program (in\n",
    "Python until the termination of the shell that contains it) or until explicitly deleted by the\n",
    "programmer.\n",
    "\n",
    "**Local variables** are either declared inside of a function or passed to a function as an argument.\n",
    "Local variables can be accessed only inside of that function. The lifetime of a local variable is\n",
    "until the termination of the function, upon which the memory will be freed of local variables.\n",
    "If a function is called multiple times, with each call, memory will be allocated for the local\n",
    "variables and will be freed after the function has ended.\n",
    "\n",
    "Note: global and local variables belong to different namespaces, hence they can have the\n",
    "same name and still exist independently and store different values.\n",
    "\n",
    "Most programming languages treat variables as global, until otherwise declared.\n",
    "Python, on the other hand, treats variables as local unless otherwise declared.  Therefore,\n",
    "defining a variable inside of a function makes it local, unless it is explicitly declared as global.\n",
    "##### Example – global and local variable:"
   ]
  },
  {
   "cell_type": "code",
   "execution_count": null,
   "metadata": {},
   "outputs": [],
   "source": [
    "a = 10  # a is global variable\n",
    "del b  # We need a clean slate for variable name `b`, which was used above.\n",
    "\n",
    "def loc_example():  # Example function\n",
    "    b = 5  # b is local variable\n",
    "    print(a)  # We can access global var a inside of a function ...\n",
    "    print(b)  # as well as local var b ..."
   ]
  },
  {
   "cell_type": "code",
   "execution_count": null,
   "metadata": {},
   "outputs": [],
   "source": [
    "loc_example()  # We prove it by calling function"
   ]
  },
  {
   "cell_type": "code",
   "execution_count": null,
   "metadata": {},
   "outputs": [],
   "source": [
    "print(a)  # From the main we can use global variable ..."
   ]
  },
  {
   "cell_type": "code",
   "execution_count": null,
   "metadata": {},
   "outputs": [],
   "source": [
    "print(b)  # But local var b doesn’t exist and will raise an error"
   ]
  },
  {
   "cell_type": "markdown",
   "metadata": {},
   "source": [
    "##### Example – same label for global and local variable:"
   ]
  },
  {
   "cell_type": "code",
   "execution_count": null,
   "metadata": {},
   "outputs": [],
   "source": [
    "a = 10  # we define global var a and assign it value 10\n",
    "\n",
    "def loc_example2():\n",
    "    a = 20  # We define local var a and assign it value 20\n",
    "    print(\"a in local namespace, inside of function:\")\n",
    "    print(a)"
   ]
  },
  {
   "cell_type": "code",
   "execution_count": null,
   "metadata": {},
   "outputs": [],
   "source": [
    "print(\"a in global namespace, before function call:\")\n",
    "print(a)  # As expected, a = 10"
   ]
  },
  {
   "cell_type": "code",
   "execution_count": null,
   "metadata": {},
   "outputs": [],
   "source": [
    "loc_example2()  # Now we call function, and inside local var a = 20"
   ]
  },
  {
   "cell_type": "code",
   "execution_count": null,
   "metadata": {},
   "outputs": [],
   "source": [
    "print(\"a in global namespace, after function call:\")\n",
    "print(a)  # However, global variable remains unchanged"
   ]
  },
  {
   "cell_type": "markdown",
   "metadata": {},
   "source": [
    "##### Example – access to global variable within a function:"
   ]
  },
  {
   "cell_type": "code",
   "execution_count": null,
   "metadata": {},
   "outputs": [],
   "source": [
    "def my_inc():  # Let's define another function\n",
    "    global a  # Use global keyword to signal Python to use global var\n",
    "    a += 1  # This will directly increment the value of global var a\n",
    "\n",
    "a = 10 # Start by declaring variable a and assigning some value\n",
    "print(\"a before func call\")\n",
    "print(a)  # Let's see the value it holds ( = 10)\n",
    "my_inc()  # Call function that increments a\n",
    "print(\"a after func call\")\n",
    "print(a)  # Let's see the value a holds now ( = 11)"
   ]
  },
  {
   "cell_type": "markdown",
   "metadata": {},
   "source": [
    "### Experiment\n",
    "- Practice with global and local variables with the same labels. Try accessing and changing them inside and outside of functions."
   ]
  },
  {
   "cell_type": "code",
   "execution_count": null,
   "metadata": {},
   "outputs": [],
   "source": []
  },
  {
   "cell_type": "code",
   "execution_count": null,
   "metadata": {},
   "outputs": [],
   "source": []
  },
  {
   "cell_type": "code",
   "execution_count": null,
   "metadata": {},
   "outputs": [],
   "source": []
  },
  {
   "cell_type": "code",
   "execution_count": null,
   "metadata": {},
   "outputs": [],
   "source": []
  }
 ],
 "metadata": {
  "kernelspec": {
   "display_name": "Python 3",
   "language": "python",
   "name": "python3"
  },
  "language_info": {
   "codemirror_mode": {
    "name": "ipython",
    "version": 3
   },
   "file_extension": ".py",
   "mimetype": "text/x-python",
   "name": "python",
   "nbconvert_exporter": "python",
   "pygments_lexer": "ipython3",
   "version": "3.8.5"
  }
 },
 "nbformat": 4,
 "nbformat_minor": 4
}
