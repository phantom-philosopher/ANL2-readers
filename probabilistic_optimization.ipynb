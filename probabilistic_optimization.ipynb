{
 "cells": [
  {
   "cell_type": "markdown",
   "metadata": {},
   "source": [
    "# Analysis 2: Foundations of modeling 2\n",
    "## Probabilistic optimization\n",
    "\n",
    "In this notebook we present the general idea of applying a randomized search to find optimal (i.e. minimal or maximal) values of functions.  We will also introduce a genetic idea to sometimes proceed a search with worse values in order to reach improved values in the end.  The random search presented here is closely related to an optimization scheme called [Hill Climbing](https://en.wikipedia.org/wiki/Hill_climbing).\n",
    "\n",
    "Everything is illustrated using a simple mathematical function, but the general principles can be applied in a much broader context.\n",
    "\n",
    "This document contains:\n",
    "- [Minima of a function](#minima)\n",
    "- [Randomized search for minima](#randomized)\n",
    "- [Improvement: allowing bad mutations to survive](#survive)"
   ]
  },
  {
   "cell_type": "markdown",
   "metadata": {},
   "source": [
    "---\n",
    "<a id='minima'></a>\n",
    "### Minima of a function\n",
    "\n",
    "Probablistic optimization can be used to find minima (and maxima) of a function.  We shall illustrate this by means of an example: \n",
    "\n",
    "$$f(x) = x^4-3x^2+x+1.$$\n",
    "\n",
    "Let us use matplotlib to plot the graph of this function on the interval $[-2, 2]$:"
   ]
  },
  {
   "cell_type": "code",
   "execution_count": null,
   "metadata": {},
   "outputs": [],
   "source": [
    "import matplotlib.pyplot as plt\n",
    "\n",
    "def floatrange(a, b, step=0.01):\n",
    "    result = []\n",
    "    x = a\n",
    "    while x < b:\n",
    "        result.append(x)\n",
    "        x += step\n",
    "    return result\n",
    "\n",
    "f = lambda x: x**4 - 3*x**2 + x + 1\n",
    "X = floatrange(-2, 2)\n",
    "Y = [f(x) for x in X]\n",
    "\n",
    "plt.plot(X, Y)\n",
    "plt.show()"
   ]
  },
  {
   "cell_type": "markdown",
   "metadata": {},
   "source": [
    "We can see that there is a mininum between $-1.5$ and $-1.0$, a minimum between $1.0$ and $1.5$, and a maximum around $0.0$.  The leftmost minimum is a **global** minimum: it is the lowest point on the graph.  The rightmost minimum is a **local** minimum: all points _directly_ around it are higher, but away from it we have points that lie lower.\n",
    "\n",
    "**Question.** Is the maximum around $0.0$ local or global?"
   ]
  },
  {
   "cell_type": "markdown",
   "metadata": {},
   "source": [
    "---\n",
    "<a id='randomized'></a>\n",
    "### Randomized search for minima\n",
    "Using a graph we can roughly see where our minima lie, but often we want more accurate values.\n",
    "We could use calculus to find accurate values of minima,\n",
    "but not all functions are suited for calculus (our function $f$ is, though).  Instead, we shall use a randomized search.\n",
    "\n",
    "We keep focusing on the interval $[-2, 2]$ and choose a random $x$-value on there.  Let us also plot the corresponding point in the graph:"
   ]
  },
  {
   "cell_type": "code",
   "execution_count": null,
   "metadata": {},
   "outputs": [],
   "source": [
    "import random\n",
    "\n",
    "x = random.uniform(-2, 2)\n",
    "\n",
    "plt.plot(X, Y)  # This is the graph of the function computed above\n",
    "plt.plot(x, f(x), \"bo\")  # Randomly chosen point on the graph\n",
    "plt.show()"
   ]
  },
  {
   "cell_type": "markdown",
   "metadata": {},
   "source": [
    "Unless we're extremely lucky, the random point is not at one of the minima.\n",
    "The next step is to slightly change (_\"mutate\"_) the value of $x$ and hope we end up at a lower point on the graph:"
   ]
  },
  {
   "cell_type": "code",
   "execution_count": null,
   "metadata": {},
   "outputs": [],
   "source": [
    "max_delta = 0.5  # Maximum amount by which we want to change x\n",
    "delta_x = random.uniform(-max_delta, max_delta)  # Actual amount by which we change x, randomly chosen\n",
    "mutated_x = x + delta_x \n",
    "\n",
    "# Make sure the new x stays within [-2, 2]:\n",
    "if mutated_x < -2: mutated_x = -2\n",
    "if mutated_x > 2: mutated_x = 2\n",
    "\n",
    "plt.plot(X, Y)  # Plot f\n",
    "plt.plot(x, f(x), \"bo\")  # Old point in blue\n",
    "plt.plot(mutated_x, f(mutated_x), \"ro\")  # New point in red\n",
    "plt.show()"
   ]
  },
  {
   "cell_type": "markdown",
   "metadata": {},
   "source": [
    "#### Experiment:\n",
    "- Execute the code cell above a few times, and observe that the red point sometimes ends up higher than the blue point and sometimes lower.\n",
    "\n",
    "Since we want to find a minimum, we will replace the old blue point with the new red point if it is indeed lower.  Otherwise, we will simply keep using the blue point as our best approximation so far:"
   ]
  },
  {
   "cell_type": "code",
   "execution_count": null,
   "metadata": {},
   "outputs": [],
   "source": [
    "max_delta = 0.5  # Maximum amount by which we want to change x\n",
    "delta_x = random.uniform(-max_delta, max_delta)  # Actual amount by which we change x, randomly chosen\n",
    "mutated_x = x + delta_x\n",
    "\n",
    "# Make sure the new x stays within [-2, 2]:\n",
    "if mutated_x < -2: mutated_x = -2\n",
    "if mutated_x > 2: mutated_x = 2\n",
    "\n",
    "# First plot both points:\n",
    "plt.plot(X, Y)  # Plot f\n",
    "plt.plot(x, f(x), \"bo\")  # Old point in blue\n",
    "plt.plot(mutated_x, f(mutated_x), \"ro\")  # New point in red\n",
    "plt.show()\n",
    "\n",
    "# Now replace the old point if the new point is better:\n",
    "if f(mutated_x) < f(x):\n",
    "    x = mutated_x"
   ]
  },
  {
   "cell_type": "markdown",
   "metadata": {},
   "source": [
    "#### Experiment:\n",
    "- Execute the above code cell a couple of times, and observe that the blue point gradually converges towards one of the minima.\n",
    "- Repeat this experiment several times with different starting points:"
   ]
  },
  {
   "cell_type": "code",
   "execution_count": null,
   "metadata": {},
   "outputs": [],
   "source": [
    "x = random.uniform(-2, 2)  # New starting point to use in above experiment"
   ]
  },
  {
   "cell_type": "markdown",
   "metadata": {},
   "source": [
    "Now that we've got some feeling of how the randomized search works, we will use a for-loop to perform the iteration for us, instead of repeatedly executing the code by hand.  And let us also put the code in a decent function instead of global scope."
   ]
  },
  {
   "cell_type": "code",
   "execution_count": null,
   "metadata": {},
   "outputs": [],
   "source": [
    "def find_minimum(f, min_x=-2, max_x=2, max_delta=0.5, steps=10000):\n",
    "    \"\"\"Find and return a value x in [min_x, max_x] that is a minimum for f\"\"\"\n",
    "    x = random.uniform(min_x, max_x)\n",
    "    for _ in range(steps):\n",
    "        delta_x = random.uniform(-max_delta, max_delta) \n",
    "        mutated_x = x + delta_x\n",
    "        if mutated_x < min_x: mutated_x = min_x\n",
    "        if mutated_x > max_x: mutated_x = max_x\n",
    "        if f(mutated_x) < f(x):\n",
    "            x = mutated_x\n",
    "    return x\n",
    "\n",
    "x = find_minimum(f)\n",
    "plt.plot(X, Y)  \n",
    "plt.plot(x, f(x), \"bo\")  \n",
    "plt.show()\n",
    "print(\"x-value for minimum found:\", x)"
   ]
  },
  {
   "cell_type": "markdown",
   "metadata": {},
   "source": [
    "#### Experiment:\n",
    "- Execute the above code several times, and observe that sometimes we find the leftmost minimum and sometimes the rightmost minimum.\n",
    "- Use the code to find minima for other functions than our $f$.\n",
    "- Change the above code to find a maximum of a function."
   ]
  },
  {
   "cell_type": "code",
   "execution_count": null,
   "metadata": {},
   "outputs": [],
   "source": []
  },
  {
   "cell_type": "code",
   "execution_count": null,
   "metadata": {},
   "outputs": [],
   "source": []
  },
  {
   "cell_type": "code",
   "execution_count": null,
   "metadata": {},
   "outputs": [],
   "source": []
  },
  {
   "cell_type": "markdown",
   "metadata": {},
   "source": [
    "---\n",
    "<a id='survive'></a>\n",
    "### Improvement: allowing bad mutations to survive\n",
    "\n",
    "The above code is simple and straightforward.  However, it often finds a _local_ minimum, while we sometimes really wish to find a _global_ minimum.  For our simple function $f$, we can find a global minimum by re-running the code lots of times, but most functions are too complex for this approach to work.\n",
    "\n",
    "Instead we take another approach: we sometimes do continue with the mutated $x$ if it gives a higher function value.\n",
    "So we set a _survival rate_, typically around $1\\%$, i.e. $0.01$.  Every time the mutated $x$ is worse than the old $x$, we draw a random number between $0$ and $1$, and if it is below the survival rate, we continu with the mutated $x$ anyway. \n",
    "\n",
    "The idea behind this is that the survival of bad mutations enables us to move away from local minima, so we won't get stuck there.\n",
    "\n",
    "In code this may look like this:"
   ]
  },
  {
   "cell_type": "code",
   "execution_count": null,
   "metadata": {},
   "outputs": [],
   "source": [
    "# Let us first reset parameters, just in case some of them got screwed up.\n",
    "\n",
    "f = lambda x: x**4 - 3*x**2 + x + 1\n",
    "X = floatrange(-2, 2)\n",
    "Y = [f(x) for x in X]\n",
    "max_delta = 1.0  # We make it a bit bigger now, to really get away from the local minimum\n",
    "\n",
    "x = random.uniform(-2, 2)  # And choose a starting point again"
   ]
  },
  {
   "cell_type": "code",
   "execution_count": null,
   "metadata": {},
   "outputs": [],
   "source": [
    "# This cell can be executed repeatedly.\n",
    "\n",
    "survival_rate = 0.25  # This value is often too high in practice, but helps to explain the idea\n",
    "\n",
    "delta_x = random.uniform(-max_delta, max_delta) \n",
    "mutated_x = x + delta_x\n",
    "if mutated_x < -2: mutated_x = -2\n",
    "if mutated_x > 2: mutated_x = 2\n",
    "\n",
    "plt.plot(X, Y)  # Plot f\n",
    "plt.plot(x, f(x), \"bo\")  # Old point in blue\n",
    "plt.plot(mutated_x, f(mutated_x), \"ro\")  # Mutation in red\n",
    "plt.show()\n",
    "\n",
    "if f(mutated_x) < f(x) or random.random() < survival_rate:  # Note the survival opportunity!\n",
    "    x = mutated_x  # x may be worse than before, but that is precisely the trick!"
   ]
  },
  {
   "cell_type": "markdown",
   "metadata": {},
   "source": [
    "#### Experiment:\n",
    "- Execute the above code cell many times repeatedly, and observe that the blue point sometimes moves away from the minimum.\n",
    "\n",
    "Since we do move away from a minimum every once in a while, we add a variable to keep track of the best $x$ found so far:"
   ]
  },
  {
   "cell_type": "code",
   "execution_count": null,
   "metadata": {},
   "outputs": [],
   "source": [
    "x = random.uniform(-2, 2)  # Start with a new point\n",
    "best_x = x  # The starting x is the best so far"
   ]
  },
  {
   "cell_type": "code",
   "execution_count": null,
   "metadata": {},
   "outputs": [],
   "source": [
    "# This cell can be executed repeatedly.\n",
    "\n",
    "survival_rate = 0.25\n",
    "\n",
    "delta_x = random.uniform(-max_delta, max_delta) \n",
    "mutated_x = x + delta_x\n",
    "if mutated_x < -2: mutated_x = -2\n",
    "if mutated_x > 2: mutated_x = 2\n",
    "\n",
    "if f(mutated_x) < f(best_x):\n",
    "    best_x = mutated_x  # Though x may get worse, best_x will always improve here.\n",
    "\n",
    "plt.plot(X, Y)  # Plot f\n",
    "plt.plot(x, f(x), \"bo\")  # Old point in blue\n",
    "plt.plot(mutated_x, f(mutated_x), \"ro\")  # Mutation in red\n",
    "plt.plot(best_x, f(best_x), \"go\")  # Best point in green\n",
    "plt.show()\n",
    "\n",
    "if f(mutated_x) < f(x) or random.random() < survival_rate:\n",
    "    x = mutated_x "
   ]
  },
  {
   "cell_type": "markdown",
   "metadata": {},
   "source": [
    "#### Experiment:\n",
    "- Execute the above code repeatedly, and observe:\n",
    "    - The \"best-so-far\" green point gradually converges to a minimum.\n",
    "    - The green point sometimes covers the blue or red point: in that case the two points are just equal.\n",
    "    - The blue point often moves towards a minimum, but sometimes moves away from it.\n",
    "\n",
    "Let us now put everything together in a nice function that uses a for-loop:"
   ]
  },
  {
   "cell_type": "code",
   "execution_count": null,
   "metadata": {},
   "outputs": [],
   "source": [
    "def find_global_minimum(f, min_x=-2, max_x=2, max_delta=1.0, survival_rate=0.1, steps=25000):\n",
    "    \"\"\"Find and return a value x in [min_x, max_x] that is a minimum for f.\n",
    "    \n",
    "    This function attempts to find a minimum that is global rather than just local.\n",
    "    \"\"\"\n",
    "    x = random.uniform(min_x, max_x)\n",
    "    best_x = x\n",
    "    for _ in range(steps):\n",
    "        delta_x = random.uniform(-max_delta, max_delta) \n",
    "        mutated_x = x + delta_x\n",
    "        if mutated_x < min_x: mutated_x = min_x\n",
    "        if mutated_x > max_x: mutated_x = max_x\n",
    "        if f(mutated_x) < f(best_x):\n",
    "            best_x = mutated_x\n",
    "        if f(mutated_x) < f(x) or random.random() < survival_rate:\n",
    "            x = mutated_x\n",
    "    return best_x\n",
    "\n",
    "x = find_global_minimum(f)\n",
    "plt.plot(X, Y)  \n",
    "plt.plot(x, f(x), \"go\")  \n",
    "plt.show()\n",
    "print(\"x-value for minimum found:\", x)"
   ]
  },
  {
   "cell_type": "markdown",
   "metadata": {},
   "source": [
    "Note that in order to make things work, we have increased the default values for `max_delta` and `steps`.  This increases the chance of actually getting kicked away from the local minimum.\n",
    "\n",
    "#### Experiment:\n",
    "- Execute the above code several times, and observe that we almost always find the leftmost minimum, which is a global minimum.\n",
    "- Use the code to find global minima for other functions than our $f$.\n",
    "- Change the above code to find a global maximum of a function."
   ]
  },
  {
   "cell_type": "code",
   "execution_count": null,
   "metadata": {},
   "outputs": [],
   "source": []
  },
  {
   "cell_type": "code",
   "execution_count": null,
   "metadata": {},
   "outputs": [],
   "source": []
  },
  {
   "cell_type": "code",
   "execution_count": null,
   "metadata": {},
   "outputs": [],
   "source": []
  },
  {
   "cell_type": "code",
   "execution_count": null,
   "metadata": {},
   "outputs": [],
   "source": []
  }
 ],
 "metadata": {
  "kernelspec": {
   "display_name": "Python 3",
   "language": "python",
   "name": "python3"
  },
  "language_info": {
   "codemirror_mode": {
    "name": "ipython",
    "version": 3
   },
   "file_extension": ".py",
   "mimetype": "text/x-python",
   "name": "python",
   "nbconvert_exporter": "python",
   "pygments_lexer": "ipython3",
   "version": "3.7.1"
  }
 },
 "nbformat": 4,
 "nbformat_minor": 4
}
