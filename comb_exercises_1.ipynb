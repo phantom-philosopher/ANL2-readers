{
 "cells": [
  {
   "cell_type": "markdown",
   "metadata": {},
   "source": [
    "# Analysis 2: Foundations of modeling 2\n",
    "\n",
    "## Exercises for combinatorics, part I\n"
   ]
  },
  {
   "cell_type": "markdown",
   "metadata": {},
   "source": [
    "### Problem 1: A day out\n",
    "You are organizing a day out with your friend. You intend to go to a concert, then have dinner and also one more activity. The options for each are given in a list:\n",
    "```Python\n",
    "concert = [\"rock\", \"classical\", \"country\", \"metal\"]\n",
    "dinner = [\"italian\", \"french\", \"chinese\"]\n",
    "other = [\"ice skating\", \"shopping\", \"sightseeing\"]\n",
    "```\n",
    "Write a function `dayout(c, d, o)` that will return all possible choices for a day out when called with these three lists as arguments."
   ]
  },
  {
   "cell_type": "code",
   "execution_count": null,
   "metadata": {},
   "outputs": [],
   "source": []
  },
  {
   "cell_type": "code",
   "execution_count": null,
   "metadata": {},
   "outputs": [],
   "source": []
  },
  {
   "cell_type": "markdown",
   "metadata": {},
   "source": [
    "### Problem 2: 4-digit number(s)\n",
    "Write a function `perm4()` that will return all 4-digit numbers made using digits: 1, 2, 3, and 4 without repetition."
   ]
  },
  {
   "cell_type": "code",
   "execution_count": null,
   "metadata": {},
   "outputs": [],
   "source": []
  },
  {
   "cell_type": "code",
   "execution_count": null,
   "metadata": {},
   "outputs": [],
   "source": []
  },
  {
   "cell_type": "markdown",
   "metadata": {},
   "source": [
    "### Problem 3: Exclude 5\n",
    "How many odd 4-digit numbers can be written that exclude the digit 5?"
   ]
  },
  {
   "cell_type": "code",
   "execution_count": null,
   "metadata": {},
   "outputs": [],
   "source": []
  },
  {
   "cell_type": "code",
   "execution_count": null,
   "metadata": {},
   "outputs": [],
   "source": []
  },
  {
   "cell_type": "markdown",
   "metadata": {},
   "source": [
    "### Problem 4: Exam choices\n",
    "A teacher has to choose between two multiple-choice exams. The first exam has 8 questions and 4 possible answers for each. The second exam has 12 questions and 2 possible answers for each. Which exam has more options to choose from?"
   ]
  },
  {
   "cell_type": "code",
   "execution_count": null,
   "metadata": {},
   "outputs": [],
   "source": []
  },
  {
   "cell_type": "code",
   "execution_count": null,
   "metadata": {},
   "outputs": [],
   "source": []
  },
  {
   "cell_type": "markdown",
   "metadata": {},
   "source": [
    "### Problem 5: Year 1 books\n",
    "For year 1, you bought 4 books about Analysis topics, and 2 books about programming. In how many different ways can you arrange those books on your bookshelf?"
   ]
  },
  {
   "cell_type": "code",
   "execution_count": null,
   "metadata": {},
   "outputs": [],
   "source": []
  },
  {
   "cell_type": "code",
   "execution_count": null,
   "metadata": {},
   "outputs": [],
   "source": []
  },
  {
   "cell_type": "markdown",
   "metadata": {},
   "source": [
    "### Problem 6: Count rearrangements of words\n",
    "&nbsp;&nbsp;&nbsp;&nbsp;(a) In how many ways can we rearrange the letters of the word \"landbouw\"?<br>\n",
    "&nbsp;&nbsp;&nbsp;&nbsp;(b) In how many ways can we rearrange the letters of the word \"veeteelt\"?\n",
    "\n",
    "A word does count as a rearrangement of itself."
   ]
  },
  {
   "cell_type": "code",
   "execution_count": null,
   "metadata": {},
   "outputs": [],
   "source": []
  },
  {
   "cell_type": "code",
   "execution_count": null,
   "metadata": {},
   "outputs": [],
   "source": []
  }
 ],
 "metadata": {
  "kernelspec": {
   "display_name": "Python 3",
   "language": "python",
   "name": "python3"
  },
  "language_info": {
   "codemirror_mode": {
    "name": "ipython",
    "version": 3
   },
   "file_extension": ".py",
   "mimetype": "text/x-python",
   "name": "python",
   "nbconvert_exporter": "python",
   "pygments_lexer": "ipython3",
   "version": "3.8.5"
  }
 },
 "nbformat": 4,
 "nbformat_minor": 4
}
