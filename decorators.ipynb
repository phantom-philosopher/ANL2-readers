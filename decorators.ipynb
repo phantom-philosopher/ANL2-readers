{
 "cells": [
  {
   "cell_type": "markdown",
   "metadata": {},
   "source": [
    "# Analysis 2: Foundations of modeling 2\n",
    "\n",
    "## Higher-order functions: decorators\n",
    "\n",
    "A **decorator** in Python allows a user to add new functionality to an\n",
    "existing object (either a function or a class) without modifying its structure. With decorators,\n",
    "functions are taken as the argument into another function and then called inside the wrapper\n",
    "function.\n",
    "\n",
    "This document contains:\n",
    "- [Functions inside functions](#inside)\n",
    "- [Functions returning functions](#returning)\n",
    "- [Functions as arguments](#asarg)\n",
    "- [Practice before decorators](#practice)\n",
    "- [Simple decorator](#simpledec)\n",
    "- [Syntactic sugar](#sugar)\n",
    "- [Decorating built-in functions (optional)](#builtin)\n",
    "- [Generic wrapper (optional)](#generic)\n",
    "---\n",
    "<a id='inside'></a>\n",
    "### Functions inside functions\n",
    "Python allows you to define a new function inside of another function. This concept doesn’t exist\n",
    "in all programming languages (e.g. C++), and to understand how decorators work, we will\n",
    "illustrate it with a few examples.\n",
    "##### Example – inner function:"
   ]
  },
  {
   "cell_type": "code",
   "execution_count": null,
   "metadata": {},
   "outputs": [],
   "source": [
    "def outer_function():\n",
    "    print(\"Hello! This is the first line of the outer function.\")\n",
    "    \n",
    "    def inner_function():\n",
    "        print(\"This is inner function! Answering the call!\")\n",
    "    \n",
    "    print(\"This is the last line of the outer function. Goodbye!\")\n",
    "\n",
    "outer_function()\n",
    "#inner_function()"
   ]
  },
  {
   "cell_type": "markdown",
   "metadata": {},
   "source": [
    "The example defines the non-parametric `outer_function` which prints text when called. Inside of\n",
    "`outer_function` we define another non-parametric function `inner_function`. When running the\n",
    "program only the “hello” and “goodbye” texts will be printed, but nothing related to `inner_function`.\n",
    "That is because it is defined but not called.  Also, `inner_function` belongs to the namespace\n",
    "of `outer_function` only. Therefore, calling `inner_function` from the main program will raise an\n",
    "error. (You can uncomment the last line and test it yourself.)\n",
    "\n",
    "Next, we modify `outer_function` and add a call to `inner_function`:"
   ]
  },
  {
   "cell_type": "code",
   "execution_count": null,
   "metadata": {},
   "outputs": [],
   "source": [
    "def outer_function():\n",
    "    print(\"Hello! This is the first line of the outer function.\")\n",
    "    \n",
    "    def inner_function():\n",
    "        print(\"This is inner function! Answering the call!\")\n",
    "    \n",
    "    print(\"This is outer function calling inner function:\")\n",
    "    inner_function()\n",
    "    print(\"This is the last line of the outer function. Goodbye!\")\n",
    "outer_function()"
   ]
  },
  {
   "cell_type": "markdown",
   "metadata": {},
   "source": [
    "This shows that we can define and call inside functions at any place in outer functions. In this\n",
    "example, we chose to have inner_funciton called between two print statements for clearer\n",
    "illustration.\n",
    "#### Experiment\n",
    "- Change the position of inner_function call. Adjust the position of inner_function\n",
    "definition if needed."
   ]
  },
  {
   "cell_type": "code",
   "execution_count": null,
   "metadata": {},
   "outputs": [],
   "source": []
  },
  {
   "cell_type": "code",
   "execution_count": null,
   "metadata": {},
   "outputs": [],
   "source": []
  },
  {
   "cell_type": "markdown",
   "metadata": {},
   "source": [
    "---\n",
    "<a id='returning'></a>\n",
    "### Functions returning functions\n",
    "Like we did in examples with lambdas, we can create a function inside of another function\n",
    "and then return it. For the illustration, we modify the previous example to return\n",
    "`inner_function`.\n",
    "##### Example – returning function:"
   ]
  },
  {
   "cell_type": "code",
   "execution_count": null,
   "metadata": {},
   "outputs": [],
   "source": [
    "def outer_function():\n",
    "    print(\"Hello! This is the first line of the outer function.\")\n",
    "    \n",
    "    def inner_function():\n",
    "        print(\"This is inner function! Answering the call!\")\n",
    "    \n",
    "    print(\"This is the outer function, returning the inner function.\")\n",
    "    return inner_function\n",
    "\n",
    "f = outer_function()\n",
    "f()"
   ]
  },
  {
   "cell_type": "markdown",
   "metadata": {},
   "source": [
    "When `outer_function` is called, it will return `inner_function`, which we assign to variable f.\n",
    "Then, we can call `inner_function` using that variable from the main program.\n",
    "\n",
    "---\n",
    "<a id='asarg'></a>\n",
    "### Functions as arguments\n",
    "Functions can also be passed to other functions as arguments.\n",
    "##### Example – passing function(s) as arguments:"
   ]
  },
  {
   "cell_type": "code",
   "execution_count": null,
   "metadata": {},
   "outputs": [],
   "source": [
    "def alice():\n",
    "    print(\"Hello this is Alice.\")\n",
    "\n",
    "def bob():\n",
    "    print(\"Hello this is Bob.\")\n",
    "\n",
    "def eve(f):\n",
    "    print(\"This is Eve, calling function:\",f.__name__)\n",
    "    f()\n",
    "    \n",
    "eve(alice)\n",
    "eve(bob)"
   ]
  },
  {
   "cell_type": "markdown",
   "metadata": {},
   "source": [
    "Here, we have function `eve` that takes function `alice` and then function `bob` as an argument.\n",
    "When called, function `eve` prints the name of the function it was given as an argument, and\n",
    "then calls that function.\n",
    "#### Experiment\n",
    "- Define another non-parametric function and pass it to function eve.\n",
    "- Define one parametric function and pass it to function eve. What happens?"
   ]
  },
  {
   "cell_type": "code",
   "execution_count": null,
   "metadata": {},
   "outputs": [],
   "source": []
  },
  {
   "cell_type": "code",
   "execution_count": null,
   "metadata": {},
   "outputs": [],
   "source": []
  },
  {
   "cell_type": "markdown",
   "metadata": {},
   "source": [
    "---\n",
    "<a id='practice'></a>\n",
    "### Practice before decorators\n",
    "Before decorator examples, let’s make a final practice with inner functions.  Assume that you\n",
    "were given a task to write a function that will calculate the grade for the multiple-choice exam,\n",
    "consisting of $t$ questions (so typically $t=40$), \n",
    "with each question having one correct and three incorrect options to\n",
    "choose from.  If a student answers $p$ questions correctly, their grade can be calculated using\n",
    "the following formula:\n",
    "$$\n",
    "g(p) = \\max\n",
    "\\left(\n",
    "1,\\,\\,\n",
    "\\frac{p-\\frac{t}{4}}{t-\\frac{t}{4}}\\cdot 10\n",
    "\\right)\n",
    "$$\n",
    "The term $\\frac{t}{4}$ is subtracted on both sides to correct for the possibility to just guess the answer.\n",
    "\n",
    "This formula can be implemented with the following function:"
   ]
  },
  {
   "cell_type": "code",
   "execution_count": null,
   "metadata": {},
   "outputs": [],
   "source": [
    "def grade(points, totalpoints):\n",
    "    result = (points - totalpoints/4) / (totalpoints - totalpoints/4) * 10\n",
    "    return max(1.0, round(result,1))\n",
    "\n",
    "print(grade(40,40)) # should return 10.0\n",
    "print(grade(20,40)) # should return 3.3\n",
    "print(grade(26,40)) # should return 5.3\n",
    "print(grade(27,40)) # should return 5.7\n",
    "print(grade(0,40)) # should return 1.0\n",
    "print(grade(5,40)) # should return 1.0"
   ]
  },
  {
   "cell_type": "markdown",
   "metadata": {},
   "source": [
    "This function works as intended, but assuming that all students have taken the same exam (with\n",
    "the same number of questions), makes the second argument redundant. An alternative is to\n",
    "create a function once for each exam, stating the number of questions, and have it return a\n",
    "function where only the number of correct answers is needed."
   ]
  },
  {
   "cell_type": "code",
   "execution_count": null,
   "metadata": {},
   "outputs": [],
   "source": [
    "def make_grade(totalpoints):\n",
    "    def grade(points):\n",
    "        result = (points - totalpoints/4) / (totalpoints - totalpoints/4) * 10\n",
    "        return max(1.0, round(result,1))\n",
    "    return grade\n",
    "\n",
    "Analysis2 = make_grade(40)\n",
    "\n",
    "print(Analysis2(40))\n",
    "print(Analysis2(20))\n",
    "print(Analysis2(26))\n",
    "print(Analysis2(27))\n",
    "print(Analysis2(0))\n",
    "print(Analysis2(5))"
   ]
  },
  {
   "cell_type": "markdown",
   "metadata": {},
   "source": [
    "#### Experiment\n",
    "- Try to write a function that returns another function based on the previous example. You\n",
    "can start with a function that returns a linear function for the given slope and y-intercept\n",
    "values."
   ]
  },
  {
   "cell_type": "code",
   "execution_count": null,
   "metadata": {},
   "outputs": [],
   "source": []
  },
  {
   "cell_type": "code",
   "execution_count": null,
   "metadata": {},
   "outputs": [],
   "source": []
  },
  {
   "cell_type": "markdown",
   "metadata": {},
   "source": [
    "---\n",
    "<a id='simpledec'></a>\n",
    "### Simple decorator\n",
    "To understand decorators, we will investigate a simple problem concerning division of two\n",
    "numbers $a$ and $b$.\n",
    "##### Example – division by zero:"
   ]
  },
  {
   "cell_type": "code",
   "execution_count": null,
   "metadata": {},
   "outputs": [],
   "source": [
    "def div(a, b):\n",
    "    return a/b\n",
    "\n",
    "print(div(6,2))\n",
    "#print(div(6,0)) # raises an error"
   ]
  },
  {
   "cell_type": "markdown",
   "metadata": {},
   "source": [
    "If we implement the function `div` to just return the result of $a/b$, it will work in all cases, except\n",
    "when $b = 0$, as division by zero is not allowed. Uncommenting the last line will raise an\n",
    "error.\n",
    "One approach is to modify the function, check if $b=0$ and skip division if true."
   ]
  },
  {
   "cell_type": "code",
   "execution_count": null,
   "metadata": {},
   "outputs": [],
   "source": [
    "def div_fixed(a, b):\n",
    "    if b==0:\n",
    "        print(\"Division by zero is not allowed!\")\n",
    "        return None\n",
    "    else:\n",
    "        return a/b\n",
    "    \n",
    "print(div_fixed(6,2))\n",
    "print(div_fixed(6,0))"
   ]
  },
  {
   "cell_type": "markdown",
   "metadata": {},
   "source": [
    "But ... what if altering the function is not possible? Assume you are using a function that\n",
    "someone else wrote, and you either don’t have the source code, or you just want to make a\n",
    "minor alteration, without going deep into the implementation. Using our knowledge of writing\n",
    "inner and outer functions, we can write a function that wraps around another.\n",
    "##### Example – our first decorator:"
   ]
  },
  {
   "cell_type": "code",
   "execution_count": null,
   "metadata": {},
   "outputs": [],
   "source": [
    "def div_with_check(func):\n",
    "    def wrapper(a, b):\n",
    "        if b == 0:\n",
    "            return None\n",
    "        else:\n",
    "            return func(a, b)\n",
    "    \n",
    "    return wrapper"
   ]
  },
  {
   "cell_type": "markdown",
   "metadata": {},
   "source": [
    "Let’s analyze this structure in detail. Function `div_with_check` is accepting one argument\n",
    "which is expected to be a function. When called, `div_with_check` will go to the return statement\n",
    "(as everything else was the definition of inner function `wrapper`) and return function `wrapper`,\n",
    "that takes two arguments, as the result.\n",
    "\n",
    "If `wrapper` is bound to a variable and called later via that variable, including passing of two\n",
    "arguments, it will do the following: first, it will check if the second argument is equal to zero,\n",
    "returning `None` if true. Otherwise, it will call function `func`, passing to it arguments `a, b`.\n",
    "\n",
    "To wrap around another function, we can use the following call:"
   ]
  },
  {
   "cell_type": "code",
   "execution_count": null,
   "metadata": {},
   "outputs": [],
   "source": [
    "div = div_with_check(div)"
   ]
  },
  {
   "cell_type": "markdown",
   "metadata": {},
   "source": [
    "Essentially, this means that we are wrapping around function `div`, and using the wrapper avoid\n",
    "division by zero. The complete code can be found below:"
   ]
  },
  {
   "cell_type": "code",
   "execution_count": null,
   "metadata": {},
   "outputs": [],
   "source": [
    "def div_with_check(func):\n",
    "    def wrapper(a, b):\n",
    "        if b == 0:\n",
    "            return None\n",
    "        else:\n",
    "            return func(a, b)\n",
    "    return wrapper\n",
    "\n",
    "def div(a, b):\n",
    "    return a/b\n",
    "\n",
    "print(div(6,2))\n",
    "#print(div(6,0)) # raises an error\n",
    "div = div_with_check(div)\n",
    "print(div(6,2))\n",
    "print(div(6,0)) # no longer raises an error"
   ]
  },
  {
   "cell_type": "markdown",
   "metadata": {},
   "source": [
    "By using the decorator div_with_check, we altered the functionality of the function div, while\n",
    "the original implementation remained unchanged.\n",
    "\n",
    "---\n",
    "<a id='sugar'></a>\n",
    "### Syntactic sugar\n",
    "Syntactic sugar is a syntax within a programming language that is designed to make things\n",
    "easier to read or to express. It makes the language “sweeter” for human use. If you are writing\n",
    "your own functions, you can use syntactic sugar to decorate them. In Python, this is done by\n",
    "writing just above the function definition the at sign ‘@’ followed by the name of a decorator. We\n",
    "will use the same example from above to illustrate."
   ]
  },
  {
   "cell_type": "code",
   "execution_count": null,
   "metadata": {},
   "outputs": [],
   "source": [
    "def div_with_check(func):\n",
    "    def wrapper(a, b):\n",
    "        if b == 0:\n",
    "            return None\n",
    "        else:\n",
    "            return func(a, b)\n",
    "    return wrapper\n",
    "\n",
    "@div_with_check\n",
    "def div(a, b):\n",
    "    return a/b\n",
    "\n",
    "print(div(6,2))\n",
    "print(div(6,0)) # decorated div doesn't raise an error"
   ]
  },
  {
   "cell_type": "markdown",
   "metadata": {},
   "source": [
    "---\n",
    "<a id='builtin'></a>\n",
    "### Decorating built-in functions (optional)\n",
    "Often, you will want to decorate functions written by a third party. Although this example has\n",
    "no practical value, we will make an Easter-egg to wrap around the built-in function sum, such\n",
    "that, if it gets exactly 3 input values, we trigger a secret message “Analysis 2 is the best course\n",
    "I ever had!”\n",
    "\n",
    "**Important:** you must be careful how you address the arguments of a function you are wrapping\n",
    "around. There is a generic way to do this, but for now, we will write a decorator explicitly for\n",
    "one function, where we know which arguments it is taking. This can be accomplished by\n",
    "consulting `help()`.\n",
    "\n",
    "#### Example – Easter egg decorator\n",
    "We will follow the same template as with the first decorator. Create a decorating function that\n",
    "takes another function as an argument. Inside, create a wrapper accepting exactly the same\n",
    "number and type of arguments, as the function we want to wrap around. Then, we implement\n",
    "the specific behavior and return the wrapper."
   ]
  },
  {
   "cell_type": "code",
   "execution_count": null,
   "metadata": {},
   "outputs": [],
   "source": [
    "def easter_egg(func):\n",
    "    def wrapper(iterable, start=0):\n",
    "        if len(iterable) == 3:\n",
    "            return \"Analysis 2 is the best course I ever had!\"\n",
    "        else:\n",
    "            return func(iterable, start)\n",
    "    return wrapper\n",
    "\n",
    "print(sum([1,3]))\n",
    "print(sum([1,3,5]))\n",
    "print(sum([1,3,5,7]))\n",
    "\n",
    "sum = easter_egg(sum)\n",
    "print(sum([1,3]))\n",
    "print(sum([1,3,5]))\n",
    "print(sum([1,3,5,7]))"
   ]
  },
  {
   "cell_type": "markdown",
   "metadata": {},
   "source": [
    "#### Experiment\n",
    "- Pick one of the built-in functions and alter its functionality with a decorator."
   ]
  },
  {
   "cell_type": "code",
   "execution_count": null,
   "metadata": {},
   "outputs": [],
   "source": []
  },
  {
   "cell_type": "code",
   "execution_count": null,
   "metadata": {},
   "outputs": [],
   "source": []
  },
  {
   "cell_type": "markdown",
   "metadata": {},
   "source": [
    "---\n",
    "<a id='generic'></a>\n",
    "### Generic wrapper (optional)\n",
    "Finally, let’s make an attempt of writing a wrapper around functions for which we don’t know\n",
    "the number and the type of arguments. We still use the same “template” for wrapper, but this\n",
    "time we pass non-keyworded variable-length argument and keyworded variable-length\n",
    "argument.\n",
    "\n",
    "#### Example – Testing functions\n",
    "A practical example would be to write a wrapper that can measure how long it took the\n",
    "computer to execute our function. We do this by recording the time when the function started,\n",
    "the time when the function ended, and output the difference as the duration in seconds. Between\n",
    "that, we have to call the decorated function and also return it’s return value. Finally, the wrapper\n",
    "must be returned."
   ]
  },
  {
   "cell_type": "code",
   "execution_count": null,
   "metadata": {},
   "outputs": [],
   "source": [
    "import time\n",
    "\n",
    "def test(func):\n",
    "    def wrapper(*args, **kwargs):\n",
    "        start = time.perf_counter()\n",
    "        value = func(*args, **kwargs)\n",
    "        end = time.perf_counter()\n",
    "        duration = end - start\n",
    "        print(\"%s running time: %.4f\" %(func.__name__, duration))\n",
    "        return value\n",
    "    return wrapper"
   ]
  },
  {
   "cell_type": "markdown",
   "metadata": {},
   "source": [
    "Let’s write a few functions to test."
   ]
  },
  {
   "cell_type": "code",
   "execution_count": null,
   "metadata": {},
   "outputs": [],
   "source": [
    "@test\n",
    "def hello():\n",
    "    print(\"Hello world!\")\n",
    "\n",
    "@test\n",
    "def nested_loops(m=10, n=10, p=10):\n",
    "    for i in range(m):\n",
    "        for j in range(n):\n",
    "            for k in range(p):\n",
    "                print(\"Line:\", i, j, k)\n",
    "\n",
    "@test\n",
    "def fact(n):\n",
    "    res = 1\n",
    "    for i in range(1,n+1):\n",
    "        res *= i\n",
    "    return res"
   ]
  },
  {
   "cell_type": "markdown",
   "metadata": {},
   "source": [
    "And also decorate built-in function sum:"
   ]
  },
  {
   "cell_type": "code",
   "execution_count": null,
   "metadata": {},
   "outputs": [],
   "source": [
    "sum = test(sum)"
   ]
  },
  {
   "cell_type": "markdown",
   "metadata": {},
   "source": [
    "To see if the decorator works as expected, call them all:"
   ]
  },
  {
   "cell_type": "code",
   "execution_count": null,
   "metadata": {},
   "outputs": [],
   "source": [
    "print(sum((1,2,3)))\n",
    "hello()\n",
    "nested_loops()  # Notice how printing to the standard output impacts the execution time.\n",
    "x = fact(1000)\n",
    "print(x)"
   ]
  },
  {
   "cell_type": "code",
   "execution_count": null,
   "metadata": {},
   "outputs": [],
   "source": []
  },
  {
   "cell_type": "code",
   "execution_count": null,
   "metadata": {},
   "outputs": [],
   "source": []
  }
 ],
 "metadata": {
  "kernelspec": {
   "display_name": "Python 3",
   "language": "python",
   "name": "python3"
  },
  "language_info": {
   "codemirror_mode": {
    "name": "ipython",
    "version": 3
   },
   "file_extension": ".py",
   "mimetype": "text/x-python",
   "name": "python",
   "nbconvert_exporter": "python",
   "pygments_lexer": "ipython3",
   "version": "3.8.5"
  }
 },
 "nbformat": 4,
 "nbformat_minor": 4
}
