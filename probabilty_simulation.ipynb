{
 "cells": [
  {
   "cell_type": "markdown",
   "metadata": {},
   "source": [
    "# Analysis 2: Foundations of modeling 2\n",
    "## Probability simulation\n",
    "\n",
    "In this notebook we present three examples of probabilistic experiments.\n",
    "In a probabilistic experiment, we attempt to measure probabilities empirically by simulating a random process.\n",
    "In the simulation, each experiment is carried out many times to get a measured probability of reasonable accuracy.  Check the examples to see how this works.\n",
    "\n",
    "This document contains:\n",
    "- [Experiment 1: probability of rolling a 6 with a 6-sided die](#exp1)\n",
    "- [Experiment 2: Merry Meal toys](#exp2)\n",
    "- [Experiment 3: Birthday Paradox](#exp3)"
   ]
  },
  {
   "cell_type": "markdown",
   "metadata": {},
   "source": [
    "---\n",
    "<a id='exp1'></a>\n",
    "### Experiment 1: probability of rolling a 6 with a 6-sided die\n",
    "\n",
    "We all know that the probability of rolling a 6 with a 6-sided die is $\\frac{1}{6}$, but let us explore how to estimate this probability experimentally.\n",
    "\n",
    "We can use the `random.randint()` function from the Python Standard Library to generate a random integer: \n",
    "`random.randint(1, 6)` returns a random integer from 1 to 6 (inclusive!).\n",
    "We can use this to simulate a single throw of a die and repeat this experiment $N$ times, with $N$ large.\n",
    "The number of successful throws should be around $\\frac{N}{6}$.  <u>The experimentally measured probability is the number of succesful throws divided by $N$.</u>\n",
    "\n",
    "The following Python code performs the simulation:"
   ]
  },
  {
   "cell_type": "code",
   "execution_count": null,
   "metadata": {},
   "outputs": [],
   "source": [
    "def experiment():\n",
    "    from random import randint\n",
    "    return randint(1, 6)\n",
    "\n",
    "def simulate(N=100):\n",
    "    favorable_outcomes = 0\n",
    "    for _ in range(N):\n",
    "        outcome = experiment()\n",
    "        if outcome == 6:\n",
    "            favorable_outcomes += 1\n",
    "    prob = favorable_outcomes / N\n",
    "    return round(prob * 100, 2)\n",
    "\n",
    "p = simulate(1000)\n",
    "print(\"The estimated probability of rolling a 6 is:\", p,\"%\")"
   ]
  },
  {
   "cell_type": "markdown",
   "metadata": {},
   "source": [
    "The more trials we do, the more accurate the experimentally measured probability will be.  Let's first write a function that makes a bar plot for a dictionary whose keys indicate the number of trials performed mapping with measured probabilities as values."
   ]
  },
  {
   "cell_type": "code",
   "execution_count": null,
   "metadata": {},
   "outputs": [],
   "source": [
    "def plot_dict(d):\n",
    "    import matplotlib.pyplot as plt\n",
    "    for k,v in d.items():\n",
    "        plt.bar(str(k),v,\n",
    "        label=str(v)+\"% runs:\"+str(k))\n",
    "   \n",
    "    plt.legend(loc=\"upper right\")\n",
    "    plt.axis([-1,len(d),0,30])\n",
    "    plt.show()"
   ]
  },
  {
   "cell_type": "markdown",
   "metadata": {},
   "source": [
    "Next, we run the simulation for several values of `N`.  A large `N` will return a probality close to the true value of 16.67%, yet a small `N` may deviate from this."
   ]
  },
  {
   "cell_type": "code",
   "execution_count": null,
   "metadata": {},
   "outputs": [],
   "source": [
    "probs = {}\n",
    "for i in range(1,6):\n",
    "    runs = 10**i\n",
    "    p = simulate(runs)\n",
    "    probs[runs] = p\n",
    "\n",
    "print(probs)\n",
    "plot_dict(probs)"
   ]
  },
  {
   "cell_type": "markdown",
   "metadata": {},
   "source": [
    "#### Exercise\n",
    "Modify the simulation and answer the following questions:\n",
    "- What is the probability of getting a sum of 7 when rolling two 6-sided dice?\n",
    "- What is the probability of getting the number 7 when rolling one 12-sided die?\n"
   ]
  },
  {
   "cell_type": "code",
   "execution_count": null,
   "metadata": {},
   "outputs": [],
   "source": []
  },
  {
   "cell_type": "code",
   "execution_count": null,
   "metadata": {},
   "outputs": [],
   "source": []
  },
  {
   "cell_type": "markdown",
   "metadata": {},
   "source": [
    "#### Exercise\n",
    "If you cast two 6-sided dice, what is the probability of getting the sum greater than 9?\n",
    "- Calculate the probability (theoretically).\n",
    "- Confirm your answer empirically."
   ]
  },
  {
   "cell_type": "code",
   "execution_count": null,
   "metadata": {},
   "outputs": [],
   "source": []
  },
  {
   "cell_type": "code",
   "execution_count": null,
   "metadata": {},
   "outputs": [],
   "source": []
  },
  {
   "cell_type": "markdown",
   "metadata": {},
   "source": [
    "---\n",
    "<a id='exp2'></a>\n",
    "### Experiment 2: Merry Meal toys\n",
    "\n",
    "A popular fast-food franchise is giving one random toy if you order a \"Merry Meal\". The collection has 5 different toys in total. Your little nephew likes these toys so much that he wants to collect them all.\n",
    "\n",
    "- How many \"Merry Meals\" should you buy on average to collect all 5 toys for your nephew?\n",
    "\n",
    "We can enumerate all toys 1 to TOYMAX (which is 5 in this example).  Each happy meal returns one random toy.\n",
    "\n",
    "The experiment consists of ordering happy meals until we collect all distinct toys. Then, we count the number of orders we made.\n"
   ]
  },
  {
   "cell_type": "code",
   "execution_count": null,
   "metadata": {},
   "outputs": [],
   "source": [
    "TOYMAX = 5\n",
    "def rnd_toy(tm=TOYMAX):\n",
    "    from random import randint\n",
    "    return randint(1,tm)\n",
    "\n",
    "def experiment(tm=TOYMAX):\n",
    "    toys = set()\n",
    "    count = 0\n",
    "    while len(toys) < tm:\n",
    "        count += 1\n",
    "        toys.add(rnd_toy())\n",
    "    return count"
   ]
  },
  {
   "cell_type": "code",
   "execution_count": null,
   "metadata": {},
   "outputs": [],
   "source": [
    "def simulate(N=1000):\n",
    "    runs = []\n",
    "    for _ in range(N):\n",
    "        outcome = experiment()\n",
    "        runs.append(outcome)\n",
    "    return sum(runs)/N\n",
    "\n",
    "\n",
    "print(simulate(5000))"
   ]
  },
  {
   "cell_type": "markdown",
   "metadata": {},
   "source": [
    "The theoretical expectation can be calculated as:\n",
    "- The first toy is certain to be new → 100%.\n",
    "- The second toy has 4/5 or 80% chance of being new. Therefore, you need $5/4 = 1.25$ orders on average to get a new second toy.\n",
    "- Third toy: 3/5 or 60% chance. Therefore, $5/3 \\approx 1.67$ orders are needed on average to get the third toy.\n",
    "- Fourth toy: 2/5 or 40% chance. $5/2 = 2.5$ orders are needed on average.\n",
    "- Fifth toy: 1/5 or 20% chance. $5$ orders are needed on average.\n",
    "\n",
    "So the total number of orders that you need on average to collect all 5 toys is: \n",
    "$$\\frac{5}{5}+\\frac{5}{4}+\\frac{5}{3}+\\frac{5}{2}+\\frac{5}{1} \\approx 11.42$$\n",
    "\n",
    "It may thus be wise to exchange duplicates with your friends."
   ]
  },
  {
   "cell_type": "markdown",
   "metadata": {},
   "source": [
    "#### Exercise\n",
    "What if there are 100 toys (e.g. collectible cards)?  How many meals would you need on average to collect them all?\n",
    "- Run the experiment.\n",
    "- Compute the expected number of meals theoretically.  Are the two number close to each other?"
   ]
  },
  {
   "cell_type": "markdown",
   "metadata": {},
   "source": [
    "<a id='exp3'></a>\n",
    "### Experiment 3: Birthday Paradox\n",
    "How many people do we need to have in a room to make it a favorable bet (probability of success greater than 50%) that two people in the room will have the same birthday?  Ignore the existence of leap years - so each year has 365 days - and assume that all these days are equally likely to be someone's birthday.\n",
    "\n",
    "**Before continuing to the actual experiment, first try to guess the answer!**\n",
    "\n",
    "The function `test` sets up a room containing a group of `size` people having randomly chosen birthdays, and returns whether there is a duplicate birthday:"
   ]
  },
  {
   "cell_type": "code",
   "execution_count": null,
   "metadata": {},
   "outputs": [],
   "source": [
    "def rnd_birthday():\n",
    "    from random import randint\n",
    "    return randint(1, 365)\n",
    "\n",
    "def gen_group(size):\n",
    "    group = []\n",
    "    for _ in range(size):\n",
    "        group.append(rnd_birthday())\n",
    "    return group\n",
    "\n",
    "def get_duplicates(l):\n",
    "    res = set([el for el in l if l.count(el) > 1])\n",
    "    return list(res)\n",
    "\n",
    "def test(size):\n",
    "    grp = gen_group(size)\n",
    "    if len(get_duplicates(grp)) >= 1:\n",
    "        return True\n",
    "    else:\n",
    "        return False"
   ]
  },
  {
   "cell_type": "markdown",
   "metadata": {},
   "source": [
    "Let us now run the experiment for several values of `size` and plot the results in a bar chart:"
   ]
  },
  {
   "cell_type": "code",
   "execution_count": null,
   "metadata": {},
   "outputs": [],
   "source": [
    "def simulate(size, N = 1000):\n",
    "    count = 0\n",
    "    for _ in range(N):\n",
    "        outcome = test(size)\n",
    "        if outcome:\n",
    "            count += 1\n",
    "    return round(count / N * 100, 2)\n",
    "\n",
    "def plot_dict(d):\n",
    "    import matplotlib.pyplot as plt\n",
    "    \n",
    "    # The default figure size is a bit small, so enlarge it first:\n",
    "    fig=plt.figure(figsize=(9,6), dpi=80) \n",
    "    \n",
    "    for k,v in d.items():\n",
    "        if v >= 50:\n",
    "            plt.bar(k,v,color=\"blue\")\n",
    "        else:\n",
    "            plt.bar(k,v,color=\"red\")\n",
    "\n",
    "    plt.show()\n",
    "\n",
    "freqs = {}\n",
    "for i in range(1, 51):\n",
    "    freqs[i] = simulate(i, 1000)\n",
    "\n",
    "print(freqs)\n",
    "plot_dict(freqs)"
   ]
  },
  {
   "cell_type": "markdown",
   "metadata": {},
   "source": [
    "#### Theoretical probabililty computation\n",
    "\n",
    "If $A$ is the event that (at least) two people share a birthday, then the complementary event $A^c$ states that all people in the room have different birthdays.  It is easier to compute $P(A^c)$ directly and then compute $P(A)$ by\n",
    "$$\n",
    "P(A) = 1 - P(A^c)\n",
    "$$\n",
    "In other words: if we know the probability that all people have different birthdays, then we can subtract it from $1$ to obtain the probability that two people share a birthday.\n",
    "\n",
    "Let's work this out for a few values of the group size.  If there is 1 person, they can't share their birthday with anyone else, so $P(A^c)=1$ and $P(A)=0$.  \n",
    "\n",
    "If we add a second person, there are $364$ days left for them not to share their birthday with the first person, so $P(A^c)=\\frac{364}{365}$ and $P(A)=\\frac{1}{365}$.\n",
    "\n",
    "If the first two people have different birthdays, then there are $363$ days left for the third person to have a different birthday than the other 2.  In this case \n",
    "$$P(A^c)=\\frac{364}{365}\\cdot\\frac{363}{365}\\quad\\text{and}\\quad P(A)=1-\\frac{364}{365}\\cdot\\frac{363}{365}.$$\n",
    "For 4 people we have\n",
    "$$P(A^c)=\\frac{364}{365}\\cdot\\frac{363}{365}\\cdot\\frac{362}{365}\n",
    "\\quad\\text{and}\\quad \n",
    "P(A)=1-\\frac{364}{365}\\cdot\\frac{363}{365}\\cdot\\frac{362}{365},$$\n",
    "and this continues.  \n",
    "\n",
    "The general formula for $n$ people is:\n",
    "$$\n",
    "P(A^c)=\\frac{364}{365}\\cdot\\frac{363}{365}\\cdot\\frac{362}{365}\\cdot\\ldots\\cdot\\frac{366-n}{365}\n",
    "\\quad\\text{and}\\quad \n",
    "P(A)=1-\\frac{364}{365}\\cdot\\frac{363}{365}\\cdot\\frac{362}{365}\\cdot\\ldots\\cdot\\frac{366-n}{365}.\n",
    "$$\n",
    "\n",
    "We can now write a python function to compute this probability:"
   ]
  },
  {
   "cell_type": "code",
   "execution_count": null,
   "metadata": {},
   "outputs": [],
   "source": [
    "def birthday_clashing_probability(size):\n",
    "    noclash_prob = 1.0\n",
    "    for k in range(size):\n",
    "        # There's 365 instead of 366 because range goes from 0 to size-1\n",
    "        noclash_prob *= (365 - k) / 365\n",
    "    return 1-noclash_prob"
   ]
  },
  {
   "cell_type": "markdown",
   "metadata": {},
   "source": [
    "Let us now make a bar plot to see how well the theoretically computed probabilities coincide with the experimental ones:"
   ]
  },
  {
   "cell_type": "code",
   "execution_count": null,
   "metadata": {},
   "outputs": [],
   "source": [
    "freqs = {}\n",
    "for i in range(1, 51):\n",
    "    freqs[i] = round(birthday_clashing_probability(i) * 100, 2)\n",
    "\n",
    "print(freqs)\n",
    "plot_dict(freqs)"
   ]
  },
  {
   "cell_type": "markdown",
   "metadata": {},
   "source": [
    "#### Exercise\n",
    "Suppose people in a room write down a random number from 1 to 100 on a piece of paper.\n",
    "How many people do we need to make it a favorable bet that two people have written down the same number?\n",
    "- Work out experimentally.\n",
    "- Work out theoretically.  How well do the results coincide?"
   ]
  },
  {
   "cell_type": "code",
   "execution_count": null,
   "metadata": {},
   "outputs": [],
   "source": []
  },
  {
   "cell_type": "code",
   "execution_count": null,
   "metadata": {},
   "outputs": [],
   "source": []
  },
  {
   "cell_type": "code",
   "execution_count": null,
   "metadata": {},
   "outputs": [],
   "source": []
  }
 ],
 "metadata": {
  "kernelspec": {
   "display_name": "Python 3",
   "language": "python",
   "name": "python3"
  },
  "language_info": {
   "codemirror_mode": {
    "name": "ipython",
    "version": 3
   },
   "file_extension": ".py",
   "mimetype": "text/x-python",
   "name": "python",
   "nbconvert_exporter": "python",
   "pygments_lexer": "ipython3",
   "version": "3.7.4"
  }
 },
 "nbformat": 4,
 "nbformat_minor": 4
}
