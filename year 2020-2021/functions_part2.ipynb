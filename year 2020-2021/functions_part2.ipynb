{
 "cells": [
  {
   "cell_type": "markdown",
   "metadata": {},
   "source": [
    "# Analysis 2: Foundations of modeling 2\n",
    "\n",
    "## Functions: arguments\n",
    "\n",
    "Parameters or arguments are used to pass information to Python functions.  Although, it is\n",
    "possible to achieve a similar effect with global variables, such an approach is discouraged as it\n",
    "leads to “dirty programming” and code that is difficult to understand and maintain.\n",
    "Parameters are defined in the `def` statement; precisely, they are listed between parentheses,\n",
    "after the name of a function, and separated with commas.  When a function is called, the\n",
    "arguments are passed values.  In Python, all objects are passed by reference.\n",
    "\n",
    "This document contains:\n",
    "- [Passing a value via a single argument](#single)\n",
    "- [Passing multiple arguments](#multi)\n",
    "- [Default arguments](#default)\n",
    "- [Keyword arguments](#keyword)\n",
    "- [Variable-length arguments](#varargs)\n",
    "\n",
    "---\n",
    "<a id='single'></a>\n",
    "### Passing a value via a single argument\n",
    "In the example below, a function is defined, and it takes a single argument. In the body of the\n",
    "function we use only a print statement to output the value of that argument.\n",
    "##### Example – single argument function:"
   ]
  },
  {
   "cell_type": "code",
   "execution_count": null,
   "metadata": {},
   "outputs": [],
   "source": [
    "def func(arg):  # We define function \"func\" which takes one argument\n",
    "    print(\"arg =\",arg)  # In the body, we just print arg\n",
    "\n",
    "a = 5  # Let's define and assign values to ...\n",
    "s = \"test string\"  # global variables a and s\n",
    "func(a)  # Here, we call function func and pass variable a\n",
    "func(s)  # This time, func is called again, but s is passed instead"
   ]
  },
  {
   "cell_type": "markdown",
   "metadata": {},
   "source": [
    "We just showed how to define a function with one argument, and how to pass value from\n",
    "global variable.  It is also possible to explicitly pass values.  For the same function we can make\n",
    "the following calls:"
   ]
  },
  {
   "cell_type": "code",
   "execution_count": null,
   "metadata": {},
   "outputs": [],
   "source": [
    "func(12)  # Call func and pass 12 (when executed, arg = 12)\n",
    "func(\"test string\")  # Call func and pass \"test string\" (arg = \"test string\")\n",
    "func(4 + 2*5)  # We can also pass expressions\n",
    "b = 10\n",
    "func(b+1)  # Or pass expressions using other variables\n",
    "func( [1,2,3,4,5] )  # Or even lists (sets, tuples, etc ...)"
   ]
  },
  {
   "cell_type": "markdown",
   "metadata": {},
   "source": [
    "When a function is called, it must be passed the same amount of arguments as stated in its\n",
    "definition. Passing less or more will result in an error."
   ]
  },
  {
   "cell_type": "code",
   "execution_count": null,
   "metadata": {},
   "outputs": [],
   "source": [
    "func()  # One arg expected and none given, will raise an error"
   ]
  },
  {
   "cell_type": "code",
   "execution_count": null,
   "metadata": {},
   "outputs": [],
   "source": [
    "func(4, 8)  # One arg expected and two given, will raise an error"
   ]
  },
  {
   "cell_type": "markdown",
   "metadata": {},
   "source": [
    "#### Experiment\n",
    "- Write a new function that takes a single argument. First, display that argument like in\n",
    "the example above. Then, use built-in type() function to display the type of the variable\n",
    "passed.\n",
    "- Call that function and pass integer, float, string, list, set, tuple."
   ]
  },
  {
   "cell_type": "code",
   "execution_count": null,
   "metadata": {},
   "outputs": [],
   "source": []
  },
  {
   "cell_type": "code",
   "execution_count": null,
   "metadata": {},
   "outputs": [],
   "source": []
  },
  {
   "cell_type": "markdown",
   "metadata": {},
   "source": [
    "---\n",
    "<a id='multi'></a>\n",
    "### Passing multiple arguments\n",
    "There is no limit on the the number of arguments that can be passed.  However, to pass an argument, it must\n",
    "be defined.  Let’s create a function that takes two numeric values and returns the greater.\n",
    "##### Example – greater value:"
   ]
  },
  {
   "cell_type": "code",
   "execution_count": null,
   "metadata": {},
   "outputs": [],
   "source": [
    "def greater(a, b):  # Define function \"greater\"; takes two arguments\n",
    "    if a > b:  # The test could be done in one line,\n",
    "        result = a  # But is decomposed for clarity\n",
    "    else:\n",
    "        result = b\n",
    "    return result  # Here, we return the value stored in result\n",
    "\n",
    "x = greater(2, 5)  # Test case 1, we store the result in x\n",
    "y = greater(3, 3)  # Test case 2, we store the result in y\n",
    "z = greater(10, 1)  # Test case 3, we store the result in z\n",
    "print(x,y,z)"
   ]
  },
  {
   "cell_type": "markdown",
   "metadata": {},
   "source": [
    "Note: although the function returns a value, we are not required to store it. The following call\n",
    "is legitimate in Python:"
   ]
  },
  {
   "cell_type": "code",
   "execution_count": null,
   "metadata": {},
   "outputs": [],
   "source": [
    "greater(4, 8)  # This is a legitimate call"
   ]
  },
  {
   "cell_type": "markdown",
   "metadata": {},
   "source": [
    "Running this code in an IDE like Visual Studio Code may give you the impression that nothing\n",
    "happened, although every single line is executed.  To prove it, modify the function and before\n",
    "the return statement add print(result).  If this is run in the console, the return value will be\n",
    "displayed on the standard output.  And when run in a Jupyter-notebook cell, the result will be displayed\n",
    "below the cell.\n",
    "#### Experiment\n",
    "- Write functions that take multiple values and return a single result. Example: addition,\n",
    "subtraction, number conversion by base, etc."
   ]
  },
  {
   "cell_type": "code",
   "execution_count": null,
   "metadata": {},
   "outputs": [],
   "source": []
  },
  {
   "cell_type": "code",
   "execution_count": null,
   "metadata": {},
   "outputs": [],
   "source": []
  },
  {
   "cell_type": "markdown",
   "metadata": {},
   "source": [
    "---\n",
    "<a id='default'></a>\n",
    "### Default arguments\n",
    "To give more flexibility to the user of a function, you can use default arguments.  Default\n",
    "arguments allow the user to omit passing a value to a function, and in this case, the default\n",
    "will be passed instead.\n",
    "\n",
    "To indicate to Python that default value is used, inside of function definition, add assignment\n",
    "operator (=) followed by the desired default value.\n",
    "\n",
    "Important: default arguments must be given after the required arguments, or Python will\n",
    "report an error.\n",
    "\n",
    "In Analysis 1 we learned how to convert a decimal number to some\n",
    "other base.  Let’s write a function that does that, and ask the user to pass the\n",
    "decimal value and the target base.  Also, in case the user doesn’t want to pass the base, then\n",
    "by default we will use binary.\n",
    "##### Example – number conversion:"
   ]
  },
  {
   "cell_type": "code",
   "execution_count": null,
   "metadata": {},
   "outputs": [],
   "source": [
    "def convert(number, base=2):  # Convert takes two arguments, but base is the default\n",
    "    if base > 10 or base < 2:  # In this code we only allow bases from 2 to 10.\n",
    "        return -1\n",
    "    result = 0\n",
    "    pos = 0\n",
    "    while number > 0:  # Converting value; could have also used strings\n",
    "        remainder = number % base\n",
    "        number //= base\n",
    "        result += remainder * 10**pos\n",
    "        pos += 1\n",
    "    return result"
   ]
  },
  {
   "cell_type": "code",
   "execution_count": null,
   "metadata": {},
   "outputs": [],
   "source": [
    "print(convert(45,9))  # This function is called like any other, passing 2 arg.\n",
    "print(convert(3,10))  # Again two arg.; converting 3 to base 10\n",
    "print(convert(3,2))  # And again; converting 3 to binary\n",
    "\n",
    "print(convert(3))  # However, if the second arg is not given, base = 2\n",
    "print(convert(127))  # Therefore, 3 and 127 are converted to binary"
   ]
  },
  {
   "cell_type": "code",
   "execution_count": null,
   "metadata": {},
   "outputs": [],
   "source": [
    "print(convert()) # the first argument is still required (error)"
   ]
  },
  {
   "cell_type": "markdown",
   "metadata": {},
   "source": [
    "#### Experiment\n",
    "- Write a function that takes a single argument (string) and displays it, but if nothing is\n",
    "passed, it should display \"hello world\"."
   ]
  },
  {
   "cell_type": "code",
   "execution_count": null,
   "metadata": {},
   "outputs": [],
   "source": []
  },
  {
   "cell_type": "code",
   "execution_count": null,
   "metadata": {},
   "outputs": [],
   "source": []
  },
  {
   "cell_type": "markdown",
   "metadata": {},
   "source": [
    "---\n",
    "<a id='keyword'></a>\n",
    "### Keyword arguments\n",
    "When values are passed to function arguments, this is done according to their position.\n",
    "Therefore, the first argument will be passed the first value, the second argument will be\n",
    "passed the second value, and so on. Using key = value syntax, a value can be passed to the\n",
    "argument irrespective of its position.\n",
    "\n",
    "We demonstrate this by a simple function that draws Xs in console to represent a rectangle\n",
    "with length and width provided by the user.\n",
    "##### Example – rectangle with keyword arguments:"
   ]
  },
  {
   "cell_type": "code",
   "execution_count": null,
   "metadata": {},
   "outputs": [],
   "source": [
    "def draw_rect(length, width):  # A simple function that takes two arguments\n",
    "    for _ in range(width):\n",
    "        print('X' * length)\n",
    "\n",
    "draw_rect(5, 3) # standard function call; length = 5, width = 3\n",
    "print()\n",
    "draw_rect(width=3, length=5) # use of keyword arguments\n",
    "print()\n",
    "draw_rect(3, 5) # same values but not using keyword arguments"
   ]
  },
  {
   "cell_type": "markdown",
   "metadata": {},
   "source": [
    "---\n",
    "<a id='varargs'></a>\n",
    "### Variable-length arguments\n",
    "Sometimes, it is not possible to know in advance, how many arguments will be needed. Then\n",
    "variable-length (also known as arbitrary) arguments can be used. By placing an asterisk (\\*)\n",
    "before an argument, we indicate to Python that this label will contain non-keyworded\n",
    "variable-length arguments.  Should there be a need to use keyworded variable-length\n",
    "arguments, a double asterisk (\\*\\*) is used.\n",
    "\n",
    "Thus, the most general way to define a function is:\n",
    "```Python\n",
    "def func(*args, **kwargs):\n",
    "    ...\n",
    "```\n",
    "In this definition, `args` is a *tuple* of non-keyworded arguments, and `kwargs` is a \n",
    "*dictionary* of keyword arguments.  Dictionaries will be discussed next week.\n",
    "\n",
    "Let’s show how this works by making our implementation of the built-in function `max()`. \n",
    "We will call this\n",
    "function `maximum`, and define it in a way to take a variable-length arguments.\n",
    "##### Example – rectangle with keyword arguments:"
   ]
  },
  {
   "cell_type": "code",
   "execution_count": null,
   "metadata": {},
   "outputs": [],
   "source": [
    "def maximum(*numbers):  # Asterisk denotes variable-length arguments\n",
    "    result = numbers[0]\n",
    "    for i in range(1, len(numbers)):\n",
    "        if numbers[i] > result:\n",
    "            result = numbers[i]\n",
    "    return result\n",
    "\n",
    "print(maximum(4, 6, 1, 0, -5, 3, 4))  # Several tests, this one with 7 arguments\n",
    "print(maximum(3, 5, 1))  # Test with 3 arguments\n",
    "print(maximum(42))  # Test with 1 argument"
   ]
  },
  {
   "cell_type": "markdown",
   "metadata": {},
   "source": [
    "#### Experiment\n",
    "- Try calling the function without arguments. Is it possible?\n",
    "- Modify maximum() function such that it doesn’t raise an error if no values are passed\n",
    "(first check length and make the function return None in case of no values given)."
   ]
  },
  {
   "cell_type": "code",
   "execution_count": null,
   "metadata": {},
   "outputs": [],
   "source": []
  },
  {
   "cell_type": "markdown",
   "metadata": {},
   "source": [
    "#### More to experiment\n",
    "- It would be interesting to know how Python handles variable-length arguments.\n",
    "Investigate it by printing the type of that variable (like numbers in case of function\n",
    "maximum).\n",
    "- What happens if you pass a list as variable-length argument?\n",
    "- Try to combine default and variable-length arguments in one function of your choice.\n",
    "Remember, the order matters."
   ]
  },
  {
   "cell_type": "code",
   "execution_count": null,
   "metadata": {},
   "outputs": [],
   "source": []
  },
  {
   "cell_type": "code",
   "execution_count": null,
   "metadata": {},
   "outputs": [],
   "source": []
  }
 ],
 "metadata": {
  "kernelspec": {
   "display_name": "Python 3",
   "language": "python",
   "name": "python3"
  },
  "language_info": {
   "codemirror_mode": {
    "name": "ipython",
    "version": 3
   },
   "file_extension": ".py",
   "mimetype": "text/x-python",
   "name": "python",
   "nbconvert_exporter": "python",
   "pygments_lexer": "ipython3",
   "version": "3.7.4"
  }
 },
 "nbformat": 4,
 "nbformat_minor": 4
}
