{
 "cells": [
  {
   "cell_type": "markdown",
   "metadata": {},
   "source": [
    "# Analysis 2: Foundations of modeling 2\n",
    "## Matplotlib basics: pyplot\n",
    "\n",
    "Matplotlib is a Python library used to generate 2D plots, histograms, bar charts, scatterplots\n",
    "and many more.  For Analysis 2, we will use pyplot, which is part of matplotlib. With pyplot\n",
    "we will draw functions, visualize probabilistic problems, and display outputs of simulation\n",
    "experiments.  All relevant files, documentation and examples can be found on the official\n",
    "matplotlib page: <a href=\"https://matplotlib.org/\" target=\"_blank\">matplotlib.org</a>.  \n",
    "A basic pyplot tutorial can be found here: \n",
    "<a href=\"https://matplotlib.org/3.1.1/tutorials/introductory/pyplot.html\" target=\"_blank\">\n",
    "introduction to the pyplot interface</a>.\n",
    "\n",
    "This document contains: \n",
    "- [Plot and show](#plot)\n",
    "- [Draw function](#function)\n",
    "- [Formatting plot style](#format)\n",
    "- [Bar plot](#bar)\n",
    "- [Subplots](#sub)\n",
    "- [Exercises](#exercises)\n",
    "---\n",
    "\n",
    "<a id='plot'></a>\n",
    "### Plot and show\n",
    "Two essential functions of pyplot are `plot()` and `show()`. \n",
    "`plot()` is used to draw lines and markers\n",
    "on a cartesian coordinate system. It is a quite versatile function, and the full documentation can be\n",
    "found <a href=\"https://matplotlib.org/3.1.1/api/_as_gen/matplotlib.pyplot.plot.html#matplotlib.pyplot.plot\" target=\"_blank\">here</a>. \n",
    "The image, however, will not be displayed until the `show()` function is called.\n",
    "\n",
    "**Warning:** In the standard Python interpreter, `show()` is a blocking function \n",
    "(blocks the execution of the next statement until it is\n",
    "completed).  For now, call `show()` as the last statement in your program, just before the exit.\n",
    "IPython and Jupyter surpass the blocking behavior of `show()`.\n",
    "\n",
    "`plot()` typically takes two lists of $x$ and $y$ values. B oth lists must be of the same length. \n",
    "We will start with the simplest scenario and input a list `Y` of $y$ values only.  `plot()` will then generate $x$ values\n",
    "from the interval `[0, len(Y)-1]`\n",
    "##### Example – draw line:"
   ]
  },
  {
   "cell_type": "code",
   "execution_count": null,
   "metadata": {},
   "outputs": [],
   "source": [
    "# This is our first pyplot example.  Depending on your installation, \n",
    "# Jupyter may either show the plot in the notebook or pop up a new window for it.\n",
    "# If after a few seconds nothing has happened, press Shift+Enter once more (loading pyplot takes some time).\n",
    "\n",
    "import matplotlib.pyplot as plt\n",
    "\n",
    "plt.plot([4, 4, 10, 10, 10, 4, 4, 1])\n",
    "plt.show()"
   ]
  },
  {
   "cell_type": "markdown",
   "metadata": {},
   "source": [
    "This will create 8 points: $(0,4)$, $(1,4)$, $(2,10)$, $(3,10)$, $(4,10)$, $(5,4)$, $(6,4)$, $(7,1)$, \n",
    "and connect them with lines.\n",
    "\n",
    "Next, we will pass $x$ and $y$ coordinates to the `plot()` function, such that we draw a triangle. \n",
    "In this case, the last point is deliberately moved by 0.1 units, to make it easier to spot the order in\n",
    "which the lines have been drawn."
   ]
  },
  {
   "cell_type": "code",
   "execution_count": null,
   "metadata": {},
   "outputs": [],
   "source": [
    "import matplotlib.pyplot as plt\n",
    "\n",
    "plt.plot([1, 9, 5, 1.1], [2, 2, 8, 2.1])\n",
    "plt.show()"
   ]
  },
  {
   "cell_type": "markdown",
   "metadata": {},
   "source": [
    "#### Experiment\n",
    "- Use plot() to draw a rectangle."
   ]
  },
  {
   "cell_type": "code",
   "execution_count": null,
   "metadata": {},
   "outputs": [],
   "source": []
  },
  {
   "cell_type": "markdown",
   "metadata": {},
   "source": [
    "---\n",
    "<a id='function'></a>\n",
    "### Draw function\n",
    "Let’s try to draw a simple linear function. For this example we choose $f(x) = 3x − 2$. Since\n",
    "pyplot expects a fixed number of $(x,y)$ pairs, let’s plot the function for $0 \\le x < 100$.\n",
    "##### Example – single linear function:"
   ]
  },
  {
   "cell_type": "code",
   "execution_count": null,
   "metadata": {},
   "outputs": [],
   "source": [
    "import matplotlib.pyplot as plt\n",
    "\n",
    "# Let's make a simple linear function: f(x) = 3x - 2\n",
    "def f(x):\n",
    "    return 3*x - 2\n",
    "\n",
    "N = 100  # Our constant containing the number of points to draw\n",
    "\n",
    "# Generate x and y values:\n",
    "X = [i for i in range(N)]\n",
    "Y = [f(x) for x in X]\n",
    "\n",
    "# Plot and show:\n",
    "plt.plot(X, Y)\n",
    "plt.show()"
   ]
  },
  {
   "cell_type": "markdown",
   "metadata": {},
   "source": [
    "Next, let’s try to plot two linear functions to the same pyplot. The first one should remain the\n",
    "same: $f(x) = 3x − 2$, and for the second one we pick $f(x) = 2x + 5$. This time, we plot $x$\n",
    "from the interval $[-100, 100)$.\n",
    "##### Example – two linear functions:"
   ]
  },
  {
   "cell_type": "code",
   "execution_count": null,
   "metadata": {},
   "outputs": [],
   "source": [
    "import matplotlib.pyplot as plt\n",
    "\n",
    "# This time, make two linear functions:\n",
    "def f1(x):\n",
    "    return 3*x - 2\n",
    "def f2(x):\n",
    "    return 2*x + 5\n",
    "\n",
    "# Drawing interval:\n",
    "low = -100\n",
    "high = 100\n",
    "\n",
    "# Generate X and Y values:\n",
    "X = [i for i in range(low,high)]\n",
    "Y1 = [f1(x) for x in X]\n",
    "Y2 = [f2(x) for x in X]\n",
    "\n",
    "# Plot and show\n",
    "plt.plot(X, Y1)\n",
    "plt.plot(X, Y2)\n",
    "plt.show()"
   ]
  },
  {
   "cell_type": "markdown",
   "metadata": {},
   "source": [
    "Note how pyplot automatically adjusts the $x$ and $y$ axis.\n",
    "\n",
    "#### Experiment\n",
    "- Pick any function of your choice and plot it with the two linear functions already given.\n",
    "- Experiment changing the number of points drawn."
   ]
  },
  {
   "cell_type": "code",
   "execution_count": null,
   "metadata": {},
   "outputs": [],
   "source": []
  },
  {
   "cell_type": "code",
   "execution_count": null,
   "metadata": {},
   "outputs": [],
   "source": []
  },
  {
   "cell_type": "markdown",
   "metadata": {},
   "source": [
    "---\n",
    "<a id='format'></a>\n",
    "### Formatting plot style\n",
    "We mentioned that the `plot()` function is quite versatile.  Besides $(x,y)$ pairs, you can also input\n",
    "a color, as well as a type of marker.  We will add more linear functions and plot each\n",
    "with a different style.\n",
    "#### Example – plot markers\n",
    "The plot style is given as the third parameter, following $x$ and $y$ values. \n",
    "It is a string; \n",
    "the first character of that string depicts the plotting color \n",
    "(e.g `b` – blue, `r` – red, `g` – green, `y` – yellow, etc.), and the second (and possibly third) \n",
    "character indicates the shape of the marker. \n",
    "\n",
    "For a complete list of shapes, please consult\n",
    "the documentation. Here we use `^` to plot triangles, `o` to plot dots, `--` to plot a dashed\n",
    "line, and `-` to plot a solid line connecting the points (default)."
   ]
  },
  {
   "cell_type": "code",
   "execution_count": null,
   "metadata": {},
   "outputs": [],
   "source": [
    "import matplotlib.pyplot as plt\n",
    "\n",
    "# More linear functions:\n",
    "def f1(x):\n",
    "    return 3*x - 2\n",
    "\n",
    "def f2(x):\n",
    "    return 2*x + 5\n",
    "\n",
    "def f3(x):\n",
    "    return x + 1\n",
    "\n",
    "def f4(x):\n",
    "    return -x + 6\n",
    "\n",
    "# Drawing interval:\n",
    "low = -10\n",
    "high = 10\n",
    "\n",
    "# Generate x and y values\n",
    "X = [i for i in range(low,high)]\n",
    "Y1 = [f1(x) for x in X]\n",
    "Y2 = [f2(x) for x in X]\n",
    "Y3 = [f3(x) for x in X]\n",
    "Y4 = [f4(x) for x in X]\n",
    "\n",
    "# Plot and show\n",
    "plt.plot(X, Y1, 'bo')\n",
    "plt.plot(X, Y2, 'r^')\n",
    "plt.plot(X, Y3, 'g--')\n",
    "plt.plot(X, Y4, 'y-')\n",
    "plt.show()"
   ]
  },
  {
   "cell_type": "markdown",
   "metadata": {},
   "source": [
    "#### Example – axis()\n",
    "By default, pyplot automatically adjusts the $x$ and $y$ axis.  If this is not desirable, \n",
    "the `axis()` function can be used to manually control the viewport. \n",
    "`axis()` takes an input in the form of a list\n",
    "containing `[xmin, xmax, ymin, ymax]` values. We will use the same code as above, but insert\n",
    "`axis()` before calling `show()`."
   ]
  },
  {
   "cell_type": "code",
   "execution_count": null,
   "metadata": {},
   "outputs": [],
   "source": [
    "# Plot and show, using axis()\n",
    "plt.plot(X, Y1, 'bo')\n",
    "plt.plot(X, Y2, 'r^')\n",
    "plt.plot(X, Y3, 'g--')\n",
    "plt.plot(X, Y4, 'y-')\n",
    "plt.axis([-5, 10, -20, 20])\n",
    "plt.show()"
   ]
  },
  {
   "cell_type": "markdown",
   "metadata": {},
   "source": [
    "#### Example – labels and legend\n",
    "It is also possible to add a legend to the plot and label each function.  To label each plot, add\n",
    "a keyword argument label as parameter of the `plot()` function. \n",
    "Example: \n",
    "```Python\n",
    "plot(X,Y, 'r-', label=\"my label\"). \n",
    "```\n",
    "However, to make labels appear, call `legend()` before `show()`.\n",
    "We will modify the previous example to include labels:"
   ]
  },
  {
   "cell_type": "code",
   "execution_count": null,
   "metadata": {},
   "outputs": [],
   "source": [
    "import matplotlib.pyplot as plt\n",
    "# This time, make two linear functions\n",
    "def f1(x):\n",
    "    return 3*x - 2\n",
    "\n",
    "def f2(x):\n",
    "    return 2*x + 5\n",
    "\n",
    "def f3(x):\n",
    "    return x + 1\n",
    "\n",
    "def f4(x):\n",
    "    return -x + 6\n",
    "\n",
    "# Drawing interval\n",
    "low = -100\n",
    "high = 100\n",
    "\n",
    "# Generate x and y values\n",
    "X = [i for i in range(low,high)]\n",
    "Y1 = [f1(i) for i in X]\n",
    "Y2 = [f2(i) for i in X]\n",
    "Y3 = [f3(i) for i in X]\n",
    "Y4 = [f4(i) for i in X]\n",
    "\n",
    "# Plot and show\n",
    "plt.plot(X, Y1, 'bo', label=r\"$3x-2$\")\n",
    "plt.plot(X, Y2, 'r^', label=r\"$2x+5$\")\n",
    "plt.plot(X, Y3, 'g--', label=r\"random text $\\alpha_i$\")\n",
    "plt.plot(X, Y4, 'y-')\n",
    "plt.axis([-5, 10, -20, 20])\n",
    "plt.legend()\n",
    "plt.show()"
   ]
  },
  {
   "cell_type": "markdown",
   "metadata": {},
   "source": [
    "Note: pyplot labels allow writing of mathematical expressions and special characters. \n",
    "For example, we used \\alpha_i to display α<sub>i</sub>\n",
    "in the third function. Such expressions must be given\n",
    "between dollar characters ($), and should be explicitly labeled as raw strings (`r` before string\n",
    "quotes).\n",
    "#### Experiment\n",
    "- Draw different functions and markers. Experiment with showing labels and adjusting the\n",
    "viewport size."
   ]
  },
  {
   "cell_type": "code",
   "execution_count": null,
   "metadata": {},
   "outputs": [],
   "source": []
  },
  {
   "cell_type": "code",
   "execution_count": null,
   "metadata": {},
   "outputs": [],
   "source": []
  },
  {
   "cell_type": "markdown",
   "metadata": {},
   "source": [
    "---\n",
    "<a id='bar'></a>\n",
    "### Bar plot\n",
    "To show bars in your plot, replace `plot()` with the `bar()` function. \n",
    "`bar()` behaves very similarly to `plot()`.\n",
    "For our needs we will only input $x$ and $y$ values like we did with `plot`.\n",
    "##### Example – random bars:"
   ]
  },
  {
   "cell_type": "code",
   "execution_count": null,
   "metadata": {},
   "outputs": [],
   "source": [
    "import matplotlib.pyplot as plt\n",
    "from random import randint\n",
    "\n",
    "# Control values\n",
    "RNDMAX = 100\n",
    "N = 5\n",
    "\n",
    "# Generate X and random Y values\n",
    "X = range(N)\n",
    "Y = [randint(0, RNDMAX) for x in X]\n",
    "\n",
    "# Plot bars\n",
    "plt.bar(X, Y)\n",
    "plt.show()"
   ]
  },
  {
   "cell_type": "markdown",
   "metadata": {},
   "source": [
    "#### Experiment\n",
    "- Experiment changing the viewport size, add label and show the legend."
   ]
  },
  {
   "cell_type": "code",
   "execution_count": null,
   "metadata": {},
   "outputs": [],
   "source": []
  },
  {
   "cell_type": "code",
   "execution_count": null,
   "metadata": {},
   "outputs": [],
   "source": []
  },
  {
   "cell_type": "markdown",
   "metadata": {},
   "source": [
    "---\n",
    "<a id='sub'></a>\n",
    "### Subplots\n",
    "It is possible to combine multiple plots in one figure. To signal to pyplot that it should use\n",
    "multiple plots, call the `subplot()` function. \n",
    "Subplot takes a 3-digit numerical argument, such that\n",
    "the first number shows the number of rows, the second the number of columns, and the third\n",
    "is the active plot counting from left to right, top to bottom. Therefore, if we pass 131, it\n",
    "means we want to have 1 row, 3 columns, and the current active subplot is the first one (top,\n",
    "left). Essentially, it means we will have 3 subplots, all in one row. If we pass 212, that means\n",
    "we will have two plots in total, one above the other, and that we are plotting on the second\n",
    "one.\n",
    "\n",
    "In the example below we will create 6 subplots; 2 rows and 3 columns. Then, we will draw\n",
    "only on subplots 1, 2, 3 and 6, leaving 4 and 5 empty.\n",
    "\n",
    "Note that every `plot()`, `bar()`, `legend()` function applies to the currently active subplot.\n",
    "##### Example – subplots:"
   ]
  },
  {
   "cell_type": "code",
   "execution_count": null,
   "metadata": {},
   "outputs": [],
   "source": [
    "import matplotlib.pyplot as plt\n",
    "from random import randint\n",
    "\n",
    "# The default figure size is a bit small, so enlarge it first:\n",
    "fig=plt.figure(figsize=(9,6), dpi=100) \n",
    "\n",
    "# Control values:\n",
    "MIN_X = -100\n",
    "MAX_X = 101\n",
    "RND_MIN = -10\n",
    "RND_MAX = 100\n",
    "\n",
    "# Helper draw functions:\n",
    "def plot_linear(m,b):\n",
    "    X = range(MIN_X, MAX_X)\n",
    "    Y = [m*x + b for x in X]\n",
    "    plt.plot(X, Y, label=f\"${m}x+{b}$\")\n",
    "\n",
    "def rnd_bars(num):\n",
    "    X = range(num)\n",
    "    Y = [randint(RND_MIN, RND_MAX) for x in X]\n",
    "    plt.bar(X, Y)\n",
    "\n",
    "# This is our first subplot, 1: top-left\n",
    "plt.subplot(231)\n",
    "plot_linear(3,2)\n",
    "\n",
    "# This is our second subplot, 2: top-middle\n",
    "plt.subplot(232)\n",
    "plot_linear(3,2)\n",
    "plot_linear(1,0)\n",
    "\n",
    "# This is our third subplot, 3: top-right\n",
    "plt.subplot(233)\n",
    "plot_linear(3,2)\n",
    "plot_linear(2,1)\n",
    "plt.axis([-10, 10, -10, 10])\n",
    "plt.legend()\n",
    "\n",
    "# This is our sixth subplot, 6: bottom-right\n",
    "plt.subplot(236)\n",
    "rnd_bars(5)\n",
    "plt.show()"
   ]
  },
  {
   "cell_type": "markdown",
   "metadata": {},
   "source": [
    "#### Experiment\n",
    "- Choose two linear functions. Then, make 4 subplots. In the first, display the first function\n",
    "and in the second, the other function. In the third subplot, display both functions, and in\n",
    "the last subplot again display both, but zoom in to interval $[-1, 1]$ and display a legend."
   ]
  },
  {
   "cell_type": "code",
   "execution_count": null,
   "metadata": {},
   "outputs": [],
   "source": []
  },
  {
   "cell_type": "code",
   "execution_count": null,
   "metadata": {},
   "outputs": [],
   "source": []
  },
  {
   "cell_type": "code",
   "execution_count": null,
   "metadata": {},
   "outputs": [],
   "source": []
  },
  {
   "cell_type": "markdown",
   "metadata": {},
   "source": [
    "---\n",
    "<a id='exercises'></a>\n",
    "## Exercises\n",
    "\n",
    "### Problem 1: Sjoerd’s new garden\n",
    "Sjoerd bought a new home with a garden. In that garden there is a tree that is 320cm tall. Sjoerd noticed that the tree grows 18cm per year.<br>\n",
    "&nbsp;&nbsp;&nbsp;&nbsp; (a) Write a linear equation showing the height of the tree.<br>\n",
    "&nbsp;&nbsp;&nbsp;&nbsp; (b) Using the linear equation, answer what the height of the tree after 20 years will be?<br>\n",
    "&nbsp;&nbsp;&nbsp;&nbsp; (c) Use matplotlib to plot the height of the tree as a function of time.  Make sure you label the axes properly and use an appropriate domain.\n"
   ]
  },
  {
   "cell_type": "code",
   "execution_count": null,
   "metadata": {},
   "outputs": [],
   "source": []
  },
  {
   "cell_type": "code",
   "execution_count": null,
   "metadata": {},
   "outputs": [],
   "source": []
  },
  {
   "cell_type": "code",
   "execution_count": null,
   "metadata": {},
   "outputs": [],
   "source": []
  },
  {
   "cell_type": "markdown",
   "metadata": {},
   "source": [
    "### Problem 2: let’s build a snowman\n",
    "Anna and Elsa built a snowman that is 2m tall. As soon as they finished, the snowman started melting 4cm per minute.<br>\n",
    "&nbsp;&nbsp;&nbsp;&nbsp; (a) Write a linear equation that expresses the height of the snowman per minute.<br>\n",
    "&nbsp;&nbsp;&nbsp;&nbsp; (b) How tall will the snowman be after 16 minutes?<br>\n",
    "&nbsp;&nbsp;&nbsp;&nbsp; (c) If left unattended, how long will it take for the snowman to completely melt?<br>\n",
    "&nbsp;&nbsp;&nbsp;&nbsp; (d) Use matplotlib to plot the height of the snowman as a function of time.  Make sure you label the axes properly and use an appropriate domain."
   ]
  },
  {
   "cell_type": "code",
   "execution_count": null,
   "metadata": {},
   "outputs": [],
   "source": []
  },
  {
   "cell_type": "code",
   "execution_count": null,
   "metadata": {},
   "outputs": [],
   "source": []
  },
  {
   "cell_type": "code",
   "execution_count": null,
   "metadata": {},
   "outputs": [],
   "source": []
  },
  {
   "cell_type": "markdown",
   "metadata": {},
   "source": [
    "### Problem 3: sumo wrestling\n",
    "Andrej wants to be a sumo wrestler, so he must gain some weight. Andrej started with 66kg and after one year he weighs 138kg. Answer the following:<br>\n",
    "&nbsp;&nbsp;&nbsp;&nbsp; (a) What is the rate (in kg/month) at which Andrej is gaining weight?<br>\n",
    "&nbsp;&nbsp;&nbsp;&nbsp; (b) If Andrej needs to be over 200kg to win, how many more months must he train?<br>\n",
    "&nbsp;&nbsp;&nbsp;&nbsp; (c) Use matplotlib to plot Andrej's weight as a function of time.  Make sure you label the axes properly and use an appropriate domain.<br>\n",
    "&nbsp;&nbsp;&nbsp;&nbsp; (d) Mark the point on graph (function) depicting the moment when Andrej can win (reaches 200kg).<br>"
   ]
  },
  {
   "cell_type": "code",
   "execution_count": null,
   "metadata": {},
   "outputs": [],
   "source": []
  },
  {
   "cell_type": "code",
   "execution_count": null,
   "metadata": {},
   "outputs": [],
   "source": []
  },
  {
   "cell_type": "code",
   "execution_count": null,
   "metadata": {},
   "outputs": [],
   "source": []
  },
  {
   "cell_type": "markdown",
   "metadata": {},
   "source": [
    "### Problem 4*: catch the mouse\n",
    "A hungry cat is chasing a mouse.  They move in the same (straight) direction at a constant speed.  The cat has a speed of 30 km/h, and the mouse has a speed of 12 km/h.  The mouse is 40 meters ahead of the cat.<br>\n",
    "&nbsp;&nbsp;&nbsp;&nbsp; (a) Convert the given speeds from km/h to m/s.<br>\n",
    "&nbsp;&nbsp;&nbsp;&nbsp; (b) Express the positions of the cat and the mouse as linear functions of time (in seconds).<br>\n",
    "&nbsp;&nbsp;&nbsp;&nbsp; (c) After how many seconds will the cat catch the mouse?<br>\n",
    "&nbsp;&nbsp;&nbsp;&nbsp; (d) Use matplotlib to plot both functions from (a) in a single figure.  Make sure you label everything properly, use appropriate domains, and the answer to (b) can be easily read off.<br>"
   ]
  },
  {
   "cell_type": "code",
   "execution_count": null,
   "metadata": {},
   "outputs": [],
   "source": []
  },
  {
   "cell_type": "code",
   "execution_count": null,
   "metadata": {},
   "outputs": [],
   "source": []
  },
  {
   "cell_type": "code",
   "execution_count": null,
   "metadata": {},
   "outputs": [],
   "source": []
  },
  {
   "cell_type": "markdown",
   "metadata": {},
   "source": [
    "### Problem 5*: bar chart\n",
    "According to [OnzeTaal](https://onzetaal.nl/taaladvies/letterfrequentie-in-het-nederlands), the letter frequencies of Dutch are as follows (in percentages):\n",
    "\n",
    "| a | b | c | d | e | f | g | h | i | j | k | l | m | n | o | p | q | r | s | t | u | v | w | x | y | z |\n",
    "|:---:|:---:|:---:|:---:|:---:|:---:|:---:|:---:|:---:|:---:|:---:|:---:|:---:|:---:|:---:|:---:|:---:|:---:|:---:|:---:|:---:|:---:|:---:|:---:|:---:|:---:|\n",
    "| 7.49 | 1.58 | 1.24 | 5.93 | 18.91 | 0.81 | 3.40 | 2.38 | 6.50 | 1.46 | 2.25 | 3.57 | 2.21 | 10.03 | 6.06 | 1.57 | 0.01 | 6.41 | 3.73 | 6.79 | 1.99 | 2.85 | 1.52 | 0.04 | 0.04 | 1.39 |\n",
    "\n",
    "&nbsp;&nbsp;&nbsp;&nbsp; (a) Use matplotlib to make a bar chart displaying these frequencies.  Make sure you use appropriate labels.<br>\n",
    "&nbsp;&nbsp;&nbsp;&nbsp; (b) Write a function that displays a bar chart with letter frequencies of a given input text (see also Problem 6 from Lesson 2.1).<br>\n",
    "&nbsp;&nbsp;&nbsp;&nbsp; (c) Write a function that plots input from (a) and (b) in a graph containing two subplots.<br>\n",
    "&nbsp;&nbsp;&nbsp;&nbsp; (d**) Write a function that combines input from (a) and (b) in a single bar chart, which is useful for cryptanalysis.<br>"
   ]
  },
  {
   "cell_type": "code",
   "execution_count": null,
   "metadata": {},
   "outputs": [],
   "source": []
  },
  {
   "cell_type": "code",
   "execution_count": null,
   "metadata": {},
   "outputs": [],
   "source": []
  },
  {
   "cell_type": "code",
   "execution_count": null,
   "metadata": {},
   "outputs": [],
   "source": []
  },
  {
   "cell_type": "code",
   "execution_count": null,
   "metadata": {},
   "outputs": [],
   "source": []
  },
  {
   "cell_type": "code",
   "execution_count": null,
   "metadata": {},
   "outputs": [],
   "source": []
  }
 ],
 "metadata": {
  "kernelspec": {
   "display_name": "Python 3",
   "language": "python",
   "name": "python3"
  },
  "language_info": {
   "codemirror_mode": {
    "name": "ipython",
    "version": 3
   },
   "file_extension": ".py",
   "mimetype": "text/x-python",
   "name": "python",
   "nbconvert_exporter": "python",
   "pygments_lexer": "ipython3",
   "version": "3.7.1"
  }
 },
 "nbformat": 4,
 "nbformat_minor": 4
}
