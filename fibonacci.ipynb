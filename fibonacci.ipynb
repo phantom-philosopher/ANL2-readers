{
 "cells": [
  {
   "cell_type": "markdown",
   "metadata": {},
   "source": [
    "# Analysis 2: Foundations of modeling 2\n",
    "\n",
    "## Recursion: the Fibonacci sequence\n",
    "#### Recursion\n",
    "Recursion is a method to address problems where the solution depends on _simpler_ instances of the original problem.  The simplest instances of the problem are called the _base cases_.\n",
    "\n",
    "We do this by writing a _recursive_ function for this problem: a function that (directly or indirectly) calls _itself_ at some point.\n",
    "It is important to also treat the base case in a recursive function, for otherwise it would keep calling itself indefinitely.\n",
    "\n",
    "#### Fibonacci\n",
    "The archetypical example of a recursively defined sequence in mathematics is the **Fibonacci** sequence.\n",
    "It is defined as:\n",
    "$$\n",
    "F_1 = 1,\\quad F_2 = 1,\\quad F_n = F_{n-1} + F_{n-2}.\n",
    "$$\n",
    "This means that, after the first two terms, every term can be computed by adding the previous 2 terms.\n",
    "The base cases here are $F_1=1$, $F_2=1$, and the recursion is $F_n = F_{n-1} + F_{n-2}$: \n",
    "it expresses $F_n$ using terms of _smaller_ index.\n",
    "\n",
    "Here's a table containing the first few values:\n",
    "$$\n",
    "\\begin{array} {|r|r|}\\hline n & 1 & 2 & 3 & 4 & 5 & 6 & 7 & 8 & 9 & 10 & 11 & 12 \\\\ \n",
    "\\hline F_n & 1 & 1 & 2 & 3 & 5 & 8 & 13 & 21 & 34 & 55 & 89 & 144 \\\\ \\hline  \\end{array}\n",
    "$$\n",
    "\n",
    "We may even use the recursion to extend the sequence to the left.\n",
    "What we then get is: \n",
    "$$\n",
    "F_0 = 0,\\quad F_{-1} = 1,\\quad F_{-2} = -1,\\quad F_{-3} = 2, \\quad F_{-4} = -3, \\quad F_{-5} = 5,\\quad\\ldots\n",
    "$$\n",
    "But we shall mainly focus on terms of positive index (and sometimes 0).\n",
    "\n",
    "In this notebook we shall explore several Python implementations that can be used to compute $F_n$.\n",
    "It turns out that this is not as simple as it may look!\n",
    "\n",
    "This document contains:\n",
    "- [The obvious implementation](#obvious)\n",
    "- [Memoization](#memoization)\n",
    "- [Using a cache decorator](#cache)\n",
    "- [Two-term recursion](#twoterm)\n",
    "- [An iterative approach](#iter)\n",
    "- [Experiment: the tribonacci sequence](#tri)\n",
    "- [Super-fast Fibonacci recursion (optional)](#superfast)\n",
    "\n",
    "---"
   ]
  },
  {
   "cell_type": "markdown",
   "metadata": {},
   "source": [
    "<a id='obvious'></a>\n",
    "### The obvious implementation\n",
    "\n",
    "The obvious way to implement the Fibonacci sequence is by directly using the recursive formula in a Python function:"
   ]
  },
  {
   "cell_type": "code",
   "execution_count": null,
   "metadata": {},
   "outputs": [],
   "source": [
    "def fibonacci_obvious(n):\n",
    "    if n == 1 or n == 2:  # Don't forget about the base cases: there are two of them!\n",
    "        return 1\n",
    "    else:\n",
    "        return fibonacci_obvious(n-1) + fibonacci_obvious(n-2)"
   ]
  },
  {
   "cell_type": "markdown",
   "metadata": {},
   "source": [
    "Let us verify the first 12 numbers, just to make sure we made no mistakes:"
   ]
  },
  {
   "cell_type": "code",
   "execution_count": null,
   "metadata": {},
   "outputs": [],
   "source": [
    "[fibonacci_obvious(n) for n in range(1, 13)]"
   ]
  },
  {
   "cell_type": "markdown",
   "metadata": {},
   "source": [
    "However, for a not-too-large value of $n$, this will hang your code execution:"
   ]
  },
  {
   "cell_type": "code",
   "execution_count": null,
   "metadata": {},
   "outputs": [],
   "source": [
    "fibonacci_obvious(100)  # Warning: this will hang!  Interrupt the Kernel to be able to proceed."
   ]
  },
  {
   "cell_type": "markdown",
   "metadata": {},
   "source": [
    "The following picture, taken from Wikipedia, explains the problem:\n",
    "\n",
    "![tree](https://upload.wikimedia.org/wikipedia/commons/a/a3/Call_Tree_for_Fibonacci_Number_F6.svg)\n",
    "\n",
    "The tree shows all the calls that have to be made to compute $F_6$.  We see that the same number, e.g. $F_3$, is computed over and over again.  Very inefficient!  Luckily, there are ways to resolve this problem."
   ]
  },
  {
   "cell_type": "markdown",
   "metadata": {},
   "source": [
    "---\n",
    "<a id='memoization'></a>\n",
    "### Memoization\n",
    "\n",
    "Memoization is an optimization technique where we use the memory (cache) to save results of expensive function calls, with the idea to look them up later, instead of calculating them again. Thus, the faster exeqution is achieved, with the tradoff of using more memory.\n",
    "\n",
    "Python dictionary is a very convinient structure for such a task. The general idea is to store every fibonacci element that was caclulcated so far in the cache. When a new value is passed to `fibonacci_dict()` function, it will look it up in the dictionary, and if found, just return it. Otherwise, the value will be calculated and added to the cache."
   ]
  },
  {
   "cell_type": "code",
   "execution_count": null,
   "metadata": {},
   "outputs": [],
   "source": [
    "dict_cache = {}     # note: for simplicity we use cache as global\n",
    "\n",
    "def fibonacci_dict(n):\n",
    "    # (part 1) check if n is already in cache and then just return it\n",
    "    if n in dict_cache:\n",
    "        return dict_cache[n]\n",
    "    \n",
    "    # (part 2) otherwise, use recursion to find the value of F(n)\n",
    "    if n == 1 or n == 2:\n",
    "        value = 1\n",
    "    else:\n",
    "        value = fibonacci_dict(n-1) + fibonacci_dict(n-2)\n",
    "    \n",
    "    # (part 3) for F(n) = value; store it in cache for future use,\n",
    "    # then return it\n",
    "    dict_cache[n] = value\n",
    "    return value"
   ]
  },
  {
   "cell_type": "markdown",
   "metadata": {},
   "source": [
    "Let us verify the first 12 numbers again."
   ]
  },
  {
   "cell_type": "code",
   "execution_count": null,
   "metadata": {},
   "outputs": [],
   "source": [
    "[fibonacci_dict(n) for n in range(1, 13)]"
   ]
  },
  {
   "cell_type": "markdown",
   "metadata": {},
   "source": [
    "Let us inspect what are the contents of our cache."
   ]
  },
  {
   "cell_type": "code",
   "execution_count": null,
   "metadata": {},
   "outputs": [],
   "source": [
    "print(dict_cache)"
   ]
  },
  {
   "cell_type": "markdown",
   "metadata": {},
   "source": [
    "And now, try finding out the value for $F_{100}$."
   ]
  },
  {
   "cell_type": "code",
   "execution_count": null,
   "metadata": {},
   "outputs": [],
   "source": [
    "fibonacci_dict(100)"
   ]
  },
  {
   "cell_type": "markdown",
   "metadata": {},
   "source": [
    "Impressive, right? Let's check our cache again."
   ]
  },
  {
   "cell_type": "code",
   "execution_count": null,
   "metadata": {},
   "outputs": [],
   "source": [
    "print(dict_cache)"
   ]
  },
  {
   "cell_type": "markdown",
   "metadata": {},
   "source": [
    "Try $F_{1000}$."
   ]
  },
  {
   "cell_type": "code",
   "execution_count": null,
   "metadata": {},
   "outputs": [],
   "source": [
    "fibonacci_dict(1000)"
   ]
  },
  {
   "cell_type": "markdown",
   "metadata": {},
   "source": [
    "---\n",
    "<a id='cache'></a>\n",
    "### Using a cache decorator\n",
    "\n",
    "One way to tackle the inefficiency of doing the same computation over and over again is using a cache decorator to store the most recently compute values.\n",
    "This decorator will inspect whether the function has been called with the same argument before, and if so, immediately return the previously computed value.\n",
    "\n",
    "The Python Standard Library provides such a decorator: `@functools.lru_cache`:"
   ]
  },
  {
   "cell_type": "code",
   "execution_count": null,
   "metadata": {},
   "outputs": [],
   "source": [
    "from functools import lru_cache\n",
    "\n",
    "@lru_cache()\n",
    "def fibonacci_cached(n):\n",
    "    if n == 1 or n == 2:  # Don't forget about the base cases: there are two of them!\n",
    "        return 1\n",
    "    else:\n",
    "        return fibonacci_cached(n-1) + fibonacci_cached(n-2)"
   ]
  },
  {
   "cell_type": "markdown",
   "metadata": {},
   "source": [
    "Let us try to compute $F_{100}$ using this cached function:"
   ]
  },
  {
   "cell_type": "code",
   "execution_count": null,
   "metadata": {},
   "outputs": [],
   "source": [
    "fibonacci_cached(100)"
   ]
  },
  {
   "cell_type": "markdown",
   "metadata": {},
   "source": [
    "Better!  Even for larger values, we get an instant answer:"
   ]
  },
  {
   "cell_type": "code",
   "execution_count": null,
   "metadata": {},
   "outputs": [],
   "source": [
    "fibonacci_cached(1000)"
   ]
  },
  {
   "cell_type": "markdown",
   "metadata": {},
   "source": [
    "A great advantage of using caches is that they require only one line of extra code on top of what you already had.\n",
    "A downside of using caches, however, is that they may drain your memory.\n",
    "\n",
    "And they do not solve the problem of reaching the _maximum recursion depth_:\n",
    "Recursive calls cause the _call stack_ to grow in memory.  If the call stack is full, then we cannot make any further calls, and we will get a `RecursionError` upon doing so."
   ]
  },
  {
   "cell_type": "code",
   "execution_count": null,
   "metadata": {},
   "outputs": [],
   "source": [
    "fibonacci_cached(1000000)  # This will give a RecursionError"
   ]
  },
  {
   "cell_type": "markdown",
   "metadata": {},
   "source": [
    "---\n",
    "<a id='twoterm'></a>\n",
    "### Two-term recursion\n",
    "\n",
    "The Fibonacci recursion looks at the last <u>two</u> of the terms of the sequence built up so far.\n",
    "In view of this, it is a good idea to implement a function `twoterms(n)` that outputs not one, \n",
    "but a tuple $(F_{n}, F_{n-1})$ of two consecutive Fibonacci numbers.  To give a couple of examples:\n",
    "\n",
    "`twoterms(1)` returns `(1, 0)`,\\\n",
    "`twoterms(2)` returns `(1, 1)`,\\\n",
    "`twoterms(3)` returns `(2, 1)`,\\\n",
    "`twoterms(4)` returns `(3, 2)`,\\\n",
    "`twoterms(5)` returns `(5, 3)`,\\\n",
    "`twoterms(6)` returns `(8, 5)`,\\\n",
    "etcetera.\n",
    "\n",
    "The recursive formula that expresses $(F_n, F_{n-1})$ in terms of $(F_{n-1}, F_{n-2})$ is:\n",
    "$$\n",
    "(F_1,\\, F_0) = (1,\\, 0),\\quad (F_{n},\\, F_{n-1}) = (F_{n-1}\\!+\\!F_{n-2},\\, F_{n-1}).\n",
    "$$\n",
    "And this leads to the following Python implementation:"
   ]
  },
  {
   "cell_type": "code",
   "execution_count": null,
   "metadata": {},
   "outputs": [],
   "source": [
    "def twoterms(n):\n",
    "    \"\"\"Return the pair F_n, F_{n-1} of Fibonacci numbers\"\"\"\n",
    "    if n == 1:  # There are two terms in the output, so there is only one base case\n",
    "        return 1, 0\n",
    "    else:\n",
    "        Fn_1, Fn_2 = twoterms(n-1)  # The underscores should be read as minus signs\n",
    "        Fn = Fn_1 + Fn_2\n",
    "        return Fn, Fn_1\n",
    "    "
   ]
  },
  {
   "cell_type": "markdown",
   "metadata": {},
   "source": [
    "Let's check this for the first 12 terms:"
   ]
  },
  {
   "cell_type": "code",
   "execution_count": null,
   "metadata": {},
   "outputs": [],
   "source": [
    "[twoterms(n) for n in range(1, 13)]"
   ]
  },
  {
   "cell_type": "markdown",
   "metadata": {},
   "source": [
    "This works.  Let us also define a function that outputs 1 Fibonacci number based on this approach:"
   ]
  },
  {
   "cell_type": "code",
   "execution_count": null,
   "metadata": {},
   "outputs": [],
   "source": [
    "def fibonacci2(n):\n",
    "    Fn, Fn_1 = twoterms(n)\n",
    "    return Fn"
   ]
  },
  {
   "cell_type": "markdown",
   "metadata": {},
   "source": [
    "It works flawlessly for moderately large numbers, without using a memory-consuming cache:"
   ]
  },
  {
   "cell_type": "code",
   "execution_count": null,
   "metadata": {},
   "outputs": [],
   "source": [
    "fibonacci2(1000)"
   ]
  },
  {
   "cell_type": "markdown",
   "metadata": {},
   "source": [
    "However, it still drains the call stack and causes a recursion error when the input is too large:"
   ]
  },
  {
   "cell_type": "code",
   "execution_count": null,
   "metadata": {},
   "outputs": [],
   "source": [
    "big_num = fibonacci2(1000000)  # Again a RecursionError"
   ]
  },
  {
   "cell_type": "markdown",
   "metadata": {},
   "source": [
    "---\n",
    "<a id='iter'></a>\n",
    "### An iterative approach"
   ]
  },
  {
   "cell_type": "markdown",
   "metadata": {},
   "source": [
    "Any recursive algorithm can be transformed into an iterative algorithm, i.e. one that uses only iterations and no recursions.\n",
    "An advantage of this is that it doesn't drain the call stack, and it often dynamically allocates the memory it needs.\n",
    "\n",
    "Depending on the particular problem, the transfomation is not always easy to perform.  This is why recursion still comes in handy.\n",
    "However, the two-term approach is perfectly suited for iteration:"
   ]
  },
  {
   "cell_type": "code",
   "execution_count": null,
   "metadata": {},
   "outputs": [],
   "source": [
    "def fibonacci_iterative(n):\n",
    "    Fm, Fm_1 = 1, 0  # We start with m=1\n",
    "    for m in range(2, n+1):\n",
    "        Fm, Fm_1 = Fm + Fm_1, Fm\n",
    "    return Fm"
   ]
  },
  {
   "cell_type": "markdown",
   "metadata": {},
   "source": [
    "As always, we check it on a few terms first:"
   ]
  },
  {
   "cell_type": "code",
   "execution_count": null,
   "metadata": {},
   "outputs": [],
   "source": [
    "[fibonacci_iterative(n) for n in range(1, 13)]"
   ]
  },
  {
   "cell_type": "markdown",
   "metadata": {},
   "source": [
    "Check it on a moderately large value:"
   ]
  },
  {
   "cell_type": "code",
   "execution_count": null,
   "metadata": {},
   "outputs": [],
   "source": [
    "fibonacci_iterative(1000)"
   ]
  },
  {
   "cell_type": "markdown",
   "metadata": {},
   "source": [
    "Now of course we want to know whether the millionth Fibonacci number can be computed this way:"
   ]
  },
  {
   "cell_type": "code",
   "execution_count": null,
   "metadata": {},
   "outputs": [],
   "source": [
    "big_num = fibonacci_iterative(1000000)  # May take more than 10 seconds (depending on hardware of course)"
   ]
  },
  {
   "cell_type": "markdown",
   "metadata": {},
   "source": [
    "The number computed has more than 200000 digits.  Display it at your own risk:"
   ]
  },
  {
   "cell_type": "code",
   "execution_count": null,
   "metadata": {},
   "outputs": [],
   "source": [
    "big_num  # Warning: if you execute this code cell, your screen will be flooded with digits!"
   ]
  },
  {
   "cell_type": "markdown",
   "metadata": {},
   "source": [
    "---\n",
    "<a id='tri'></a>\n",
    "### Experiment: the tribonacci sequence\n",
    "\n",
    "The *tribonacci* sequence is defined using a three-term recursion:\n",
    "$$\n",
    "T_0 = 0,\\quad T_1 = 0, \\quad T_2 = 1, \\quad T_{n}=T_{n-1}+T_{n-2}+T_{n-3}.\n",
    "$$\n",
    "The first few terms are:\n",
    "$$\n",
    "\\begin{array} {|r|r|}\\hline n & 0 & 1 & 2 & 3 & 4 & 5 & 6 & 7 & 8 & 9 & 10 & 11 \\\\ \n",
    "\\hline T_n & 0& 0& 1& 1& 2& 4& 7& 13& 24& 44& 81& 149  \\\\ \\hline  \\end{array}\n",
    "$$\n",
    "- Apply each of the above techniques to implement a function that computes the $n$-th tribonacci number."
   ]
  },
  {
   "cell_type": "code",
   "execution_count": null,
   "metadata": {},
   "outputs": [],
   "source": []
  },
  {
   "cell_type": "code",
   "execution_count": null,
   "metadata": {},
   "outputs": [],
   "source": []
  },
  {
   "cell_type": "code",
   "execution_count": null,
   "metadata": {},
   "outputs": [],
   "source": []
  },
  {
   "cell_type": "code",
   "execution_count": null,
   "metadata": {},
   "outputs": [],
   "source": []
  },
  {
   "cell_type": "code",
   "execution_count": null,
   "metadata": {},
   "outputs": [],
   "source": []
  },
  {
   "cell_type": "markdown",
   "metadata": {},
   "source": [
    "---\n",
    "<a id='superfast'></a>\n",
    "### Super-fast Fibonacci recursion (optional)\n",
    "\n",
    "The best way to tackle any programming challenge is to first do your math, then do even more math, \n",
    "and only then start typing.\n",
    "And with a little bit of math, one may find the following identities:\n",
    "$$\n",
    "\\begin{array}{lcl}\n",
    "F_{2n-1} &=& F_n^2 + F_{n-1}^2,\\\\\n",
    "F_{2n} &=& F_n^2 + 2F_{n-1}{F_n},\\\\\n",
    "F_{2n+1} &=& 2F_n^2+2F_{n-1}F_n + F_{n-1}^2.\n",
    "\\end{array}\n",
    "$$\n",
    "\n",
    "These identities allow us to speed up a two-term recursion considerably: every call the index will halve!\n",
    "Let's see how this works in Python:"
   ]
  },
  {
   "cell_type": "code",
   "execution_count": null,
   "metadata": {},
   "outputs": [],
   "source": [
    "def twoterms_superfast(n):\n",
    "    \"\"\"Return the pair F_n, F_{n-1} of Fibonacci numbers\"\"\"\n",
    "    if n == 1:  # Base case\n",
    "        return 1, 0\n",
    "    else:\n",
    "        m = n // 2\n",
    "        Fm, Fm_1 = twoterms_superfast(m)  # Recursive call: m is half of n\n",
    "        if n%2 == 0:  # n = 2m\n",
    "            Fn = Fm * (Fm + 2*Fm_1)\n",
    "            Fn_1 = Fm*Fm + Fm_1*Fm_1\n",
    "            return Fn, Fn_1\n",
    "        else:  # n = 2m+1\n",
    "            Fn = 2*Fm*(Fm + Fm_1) + Fm_1*Fm_1\n",
    "            Fn_1 = Fm * (Fm + 2*Fm_1)\n",
    "            return Fn, Fn_1\n",
    "\n",
    "        \n",
    "def fibonacci_superfast(n):\n",
    "    Fn, Fn_1 = twoterms_superfast(n)\n",
    "    return Fn\n",
    "        "
   ]
  },
  {
   "cell_type": "markdown",
   "metadata": {},
   "source": [
    "Let us verify whether this mathematical hocus-pocus does indeed correctly compute $F_n$:"
   ]
  },
  {
   "cell_type": "code",
   "execution_count": null,
   "metadata": {},
   "outputs": [],
   "source": [
    "[fibonacci_superfast(n) for n in range(1, 13)]"
   ]
  },
  {
   "cell_type": "markdown",
   "metadata": {},
   "source": [
    "Well, this looks good.  Let us now try to compute the millionth term of the Fibonacci sequence:"
   ]
  },
  {
   "cell_type": "code",
   "execution_count": null,
   "metadata": {},
   "outputs": [],
   "source": [
    "big_num = fibonacci_superfast(1000000)"
   ]
  },
  {
   "cell_type": "markdown",
   "metadata": {},
   "source": [
    "That was done in the blink of an eye!  As mentioned above, the number computed has more than 200000 digits.  In fact, converting this number to a string takes way more time than it took to actually compute it!  Display at your own risk:"
   ]
  },
  {
   "cell_type": "code",
   "execution_count": null,
   "metadata": {},
   "outputs": [],
   "source": [
    "big_num  # Warning: if you execute this code cell, your screen will be flooded with digits!"
   ]
  },
  {
   "cell_type": "markdown",
   "metadata": {},
   "source": [
    "#### Experiment\n",
    "- Transform the super-fast Fibonacci code into an iterative algorithm (use the binary representation of n).\n",
    "- Verify your algorithm on the first 12 Fibonacci numbers\n",
    "- Also verify that it indeed computes big Fibonacci numbers quickly."
   ]
  },
  {
   "cell_type": "code",
   "execution_count": null,
   "metadata": {},
   "outputs": [],
   "source": []
  },
  {
   "cell_type": "code",
   "execution_count": null,
   "metadata": {},
   "outputs": [],
   "source": []
  }
 ],
 "metadata": {
  "kernelspec": {
   "display_name": "Python 3",
   "language": "python",
   "name": "python3"
  },
  "language_info": {
   "codemirror_mode": {
    "name": "ipython",
    "version": 3
   },
   "file_extension": ".py",
   "mimetype": "text/x-python",
   "name": "python",
   "nbconvert_exporter": "python",
   "pygments_lexer": "ipython3",
   "version": "3.7.1"
  }
 },
 "nbformat": 4,
 "nbformat_minor": 4
}
