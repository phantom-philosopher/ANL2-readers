{
 "cells": [
  {
   "cell_type": "markdown",
   "metadata": {},
   "source": [
    "# Analysis 2: Foundations of modeling 2\n",
    "\n",
    "## Introduction to the itertools module\n",
    "\n",
    "As we have seen during the course, Python comes equipped with the Python Standard Library, \n",
    "which contains many useful modules that we can import.  One of these modules is **`itertools`**; it has many functions that\n",
    "can be used to create all kinds of useful iterators.\n",
    "\n",
    "In this notebook we shall explain a few of those functions; \n",
    "for a full list see the <a href=\"https://docs.python.org/3/library/itertools.html\">Python Documentation</a>.\n",
    "\n",
    "This document contains:\n",
    "- [itertools.permutations](#perm)\n",
    "- [itertools.product](#prod)\n",
    "- [itertools.combinations](#comb)\n",
    "- [itertools.combinations_with_replacement](#repl)\n",
    "- [Exercises](#exercises)\n",
    "---"
   ]
  },
  {
   "cell_type": "markdown",
   "metadata": {},
   "source": [
    "<a id='perm'></a>\n",
    "### `itertools.permutations`\n",
    "\n",
    "If we have an iterable object, such as a list, tuple, or string, we can use the `itertools.permutations` function to create an iterator over all permutations of that object:"
   ]
  },
  {
   "cell_type": "code",
   "execution_count": null,
   "metadata": {},
   "outputs": [],
   "source": [
    "from itertools import permutations"
   ]
  },
  {
   "cell_type": "code",
   "execution_count": null,
   "metadata": {},
   "outputs": [],
   "source": [
    "permutations((1, 2, 3, 4))"
   ]
  },
  {
   "cell_type": "markdown",
   "metadata": {},
   "source": [
    "This only tells us we're dealing with an `itertools.permutations` object.  We don't get to see the permutations right away.  This is for efficiency reasons: `itertools.permutations()` returns an iterable object, which can for instance be used in a `for` loop and spits out the permutations one by one instead of computing the entire list beforehand.\n",
    "\n",
    "We can, however, turn it into a list using the `list` constructor:"
   ]
  },
  {
   "cell_type": "code",
   "execution_count": null,
   "metadata": {},
   "outputs": [],
   "source": [
    "list(permutations((1, 2, 3, 4)))"
   ]
  },
  {
   "cell_type": "markdown",
   "metadata": {},
   "source": [
    "So far, so good.  Let us now see what happens if we apply it to a string:"
   ]
  },
  {
   "cell_type": "code",
   "execution_count": null,
   "metadata": {},
   "outputs": [],
   "source": [
    "list(permutations(\"abc\"))"
   ]
  },
  {
   "cell_type": "markdown",
   "metadata": {},
   "source": [
    "We see that all the permutations are represented as tuples rather than strings!\n",
    "That is right: an `itertools.permutations` object spits out tuples.  \n",
    "\n",
    "Luckily, the `join` method of strings provides a slick way to concatenate all strings in a tuple - or any other iterable object - into 1 string:"
   ]
  },
  {
   "cell_type": "code",
   "execution_count": null,
   "metadata": {},
   "outputs": [],
   "source": [
    "\"\".join([\"Alfa\", \"Bravo\", \"Charlie\"])"
   ]
  },
  {
   "cell_type": "markdown",
   "metadata": {},
   "source": [
    "You may wonder what the empty string is doing there: it is the string that is put between the strings to be concatenated.\n",
    "Try for instance:"
   ]
  },
  {
   "cell_type": "code",
   "execution_count": null,
   "metadata": {},
   "outputs": [],
   "source": [
    "\", \".join([\"Alfa\", \"Bravo\", \"Charlie\"])"
   ]
  },
  {
   "cell_type": "markdown",
   "metadata": {},
   "source": [
    "Putting all this together, here is how we can get the string permutations as actual strings:"
   ]
  },
  {
   "cell_type": "code",
   "execution_count": null,
   "metadata": {},
   "outputs": [],
   "source": [
    "[\"\".join(perm) for perm in permutations(\"abc\")]"
   ]
  },
  {
   "cell_type": "markdown",
   "metadata": {},
   "source": [
    "#### Partial permutations\n",
    "\n",
    "We can also use `itertools.permutations` to spit out partial permutations, a.k.a. $k$-permutations.\n",
    "There is an optional parameter called `r` that we can use for this purpose:"
   ]
  },
  {
   "cell_type": "code",
   "execution_count": null,
   "metadata": {},
   "outputs": [],
   "source": [
    "list(permutations((1, 2, 3, 4, 5), r=3))"
   ]
  },
  {
   "cell_type": "markdown",
   "metadata": {},
   "source": [
    "#### Permutations of lists with repeated elements\n",
    "\n",
    "Let us try to find all permutations of the string `\"aabc\"`:"
   ]
  },
  {
   "cell_type": "code",
   "execution_count": null,
   "metadata": {},
   "outputs": [],
   "source": [
    "[\"\".join(perm) for perm in permutations(\"aabc\")]"
   ]
  },
  {
   "cell_type": "markdown",
   "metadata": {},
   "source": [
    "We see that every permutation is listed twice.  Python simply ignores the fact that there are two a's in \"aabc\" and sees them as separate entities.  One possible workaround is to use a set instead of a list, for a set doesn't have repeated elements:"
   ]
  },
  {
   "cell_type": "code",
   "execution_count": null,
   "metadata": {},
   "outputs": [],
   "source": [
    "{\"\".join(perm) for perm in permutations(\"aabc\")}"
   ]
  },
  {
   "cell_type": "markdown",
   "metadata": {},
   "source": [
    "We see that indeed every element is listed once.  Do keep in mind that the iterator still iterates over all 24 possibilities, so for extremely large lists with elements that have many repetitions, \n",
    "you may wish to do something more efficient than this.\n",
    "\n",
    "#### Experiment\n",
    "Try to do the following exercise from the exercise set:\n",
    "- Write a python function that on input n returns a list of all n-digit numbers consisting of distinct digits from {1, 2, 3, 4, 5, 6, 7, 8, 9}.\n",
    "- Make sure to output a list of integers!"
   ]
  },
  {
   "cell_type": "code",
   "execution_count": null,
   "metadata": {},
   "outputs": [],
   "source": []
  },
  {
   "cell_type": "code",
   "execution_count": null,
   "metadata": {},
   "outputs": [],
   "source": []
  },
  {
   "cell_type": "markdown",
   "metadata": {},
   "source": [
    "---\n",
    "\n",
    "<a id='prod'></a>\n",
    "### `itertools.product`\n",
    "\n",
    "The `itertools.product` function produces an iterater over the Cartesian product of two iterable objects.  Remember the card-deck example from Analysis 1?  Here's how to use `itertools.product` to generate it:"
   ]
  },
  {
   "cell_type": "code",
   "execution_count": null,
   "metadata": {},
   "outputs": [],
   "source": [
    "from itertools import product"
   ]
  },
  {
   "cell_type": "code",
   "execution_count": null,
   "metadata": {},
   "outputs": [],
   "source": [
    "ranks = (\"2\", \"3\", \"4\", \"5\", \"6\", \"7\", \"8\", \"9\", \"10\", \"J\", \"Q\", \"K\", \"A\")\n",
    "suits = (\"♠\", \"♥\", \"♦\", \"♣\")\n",
    "\n",
    "list(product(ranks, suits))"
   ]
  },
  {
   "cell_type": "markdown",
   "metadata": {},
   "source": [
    "We don't have to stick to two arguments.  We can have as many as we want to:"
   ]
  },
  {
   "cell_type": "code",
   "execution_count": null,
   "metadata": {},
   "outputs": [],
   "source": [
    "carbs = [\"potatoes\", \"rice\", \"noodles\"]\n",
    "proteines = [\"chicken\", \"salmon\", \"eggs\", \"tofu\"]\n",
    "vegetables = [\"broccoli\", \"cauliflower\", \"spinach\"]\n",
    "\n",
    "list(product(carbs, proteines, vegetables))  # All possible meal choices"
   ]
  },
  {
   "cell_type": "markdown",
   "metadata": {},
   "source": [
    "#### Permutations with repetition\n",
    "\n",
    "A permutation with repetition - i.e. one where we allow elements to be repeated as many times as we want to - is \n",
    "nothing more than a product of a set with itself several times.  The `itertools.product` function has the keyword argument `repeat` to do this.\n",
    "\n",
    "For example, the following code produces all strings of length 4 consisting of A's, B's, and C's:"
   ]
  },
  {
   "cell_type": "code",
   "execution_count": null,
   "metadata": {},
   "outputs": [],
   "source": [
    "[\"\".join(prod) for prod in product(\"ABC\", repeat=4)]"
   ]
  },
  {
   "cell_type": "markdown",
   "metadata": {},
   "source": [
    "#### Experiment\n",
    "\n",
    "The card game *Set* has a deck of 81 playing cards showing shapes, characterized by 4 features:\n",
    "- the <u>number</u> of shapes (1, 2, or 3),\n",
    "- the <u>kind</u> of shape (diamond, squiggle, oval) \\[some issues of the game have different shapes, though\\],\n",
    "- the <u>shading</u> (empty, striped, full),\n",
    "- the <u>color</u> (green, purple, red).\n",
    "\n",
    "The following picture, taken from Wikipedia, shows typical Set cards:\n",
    "\n",
    "![set](https://upload.wikimedia.org/wikipedia/commons/thumb/8/8f/Set-game-cards.png/500px-Set-game-cards.png)\n",
    "\n",
    "- Use a `product` iterator to generate an entire deck of Set cards (as strings), with all the features present.\n",
    "\n"
   ]
  },
  {
   "cell_type": "code",
   "execution_count": null,
   "metadata": {},
   "outputs": [],
   "source": []
  },
  {
   "cell_type": "code",
   "execution_count": null,
   "metadata": {},
   "outputs": [],
   "source": []
  },
  {
   "cell_type": "markdown",
   "metadata": {},
   "source": [
    "---\n",
    "\n",
    "<a id='comb'></a>\n",
    "### `itertools.combinations`\n",
    "The `itertools.combinations` function takes an iterable object $A$ and a nonnegative integer $k$ as input.\n",
    "It produces an iterator over all combinations of $k$ different elements of $A$, represented as tuples.\n",
    "\n",
    "As an example, we'll do the sandwich problem from the slides of Lesson 4.1, where we had to choose two ingredients to make a sandwich:"
   ]
  },
  {
   "cell_type": "code",
   "execution_count": null,
   "metadata": {},
   "outputs": [],
   "source": [
    "from itertools import combinations"
   ]
  },
  {
   "cell_type": "code",
   "execution_count": null,
   "metadata": {},
   "outputs": [],
   "source": [
    "ingredients = [\"bacon\", \"cheese\", \"eggs\", \"salad\", \"mustard\", \"ketchup\"]\n",
    "\n",
    "list(combinations(ingredients, 2))"
   ]
  },
  {
   "cell_type": "markdown",
   "metadata": {},
   "source": [
    "We see that it really outputs all *combinations* rather than all *permutations*: `(\"bacon\", \"cheese\")` is in the output, but `(\"cheese\", \"bacon\")` is not.\n",
    "\n",
    "#### Experiment\n",
    "In your wallet you have the following coins and notes (or 'tokens'): 5x €1, 6x €2, 4x €5, 2x €10.\n",
    "   \n",
    "- Use `itertools.combinations` to find all possible ways to pay €20 using exactly 6 tokens.\n",
    "- How do we make sure each combination is listed once?\n",
    "- How can we find all ways to pay €20 using any number of tokens?"
   ]
  },
  {
   "cell_type": "code",
   "execution_count": null,
   "metadata": {},
   "outputs": [],
   "source": []
  },
  {
   "cell_type": "code",
   "execution_count": null,
   "metadata": {},
   "outputs": [],
   "source": []
  },
  {
   "cell_type": "code",
   "execution_count": null,
   "metadata": {},
   "outputs": [],
   "source": []
  },
  {
   "cell_type": "code",
   "execution_count": null,
   "metadata": {},
   "outputs": [],
   "source": []
  },
  {
   "cell_type": "markdown",
   "metadata": {},
   "source": [
    "---\n",
    "<a id='repl'></a>\n",
    "### `itertools.combinations_with_replacement`\n",
    "\n",
    "This functions works the same way as `itertools.combinations`, except that it outputs combinations with replacement, i.e. combinations with repeating items.\n",
    "\n",
    "As an example, let us show how this works for the flower problem on the slides from Lesson 4.1, where we had to make bouquets of 9 flowers using roses, tulips, and/or lilies:"
   ]
  },
  {
   "cell_type": "code",
   "execution_count": null,
   "metadata": {},
   "outputs": [],
   "source": [
    "from itertools import combinations_with_replacement"
   ]
  },
  {
   "cell_type": "code",
   "execution_count": null,
   "metadata": {},
   "outputs": [],
   "source": [
    "flowers = [\"rose\", \"tulip\", \"lily\"]\n",
    "\n",
    "list(combinations_with_replacement(flowers, 9))"
   ]
  },
  {
   "cell_type": "markdown",
   "metadata": {},
   "source": [
    "#### Experiment\n",
    "\n",
    "We have a large supply of €1, €2, €5, €10, and €20 tokens.\n",
    "\n",
    "- Use `itertools.combinations_with_replacement` to find all possible ways to pay €20 using these tokens."
   ]
  },
  {
   "cell_type": "code",
   "execution_count": null,
   "metadata": {},
   "outputs": [],
   "source": []
  },
  {
   "cell_type": "code",
   "execution_count": null,
   "metadata": {},
   "outputs": [],
   "source": []
  },
  {
   "cell_type": "markdown",
   "metadata": {},
   "source": [
    "---\n",
    "<a id='exercises'></a>\n",
    "## Exercises\n",
    "\n",
    "### Problem 1: Counting numbers with distinct digits\n",
    "\n",
    "&nbsp;&nbsp;&nbsp;&nbsp;(a) How many 3-digit numbers consisting of distinct digits from the set {1, 2, 3, 4, 5, 6, 7, 8, 9} are there?\n",
    "\n",
    "&nbsp;&nbsp;&nbsp;&nbsp;(b) How many n-digit numbers consisting of distinct digits from the set {1, 2, 3, 4, 5, 6, 7, 8, 9} are there?  Express the answer in a formula that involves n.\n",
    "\n",
    "&nbsp;&nbsp;&nbsp;&nbsp;(c) Using `itertools.permutations`, write a Python function that on input n returns a list of all n-digit numbers consisting of distinct digits from {1, 2, 3, 4, 5, 6, 7, 8, 9}."
   ]
  },
  {
   "cell_type": "code",
   "execution_count": null,
   "metadata": {},
   "outputs": [],
   "source": []
  },
  {
   "cell_type": "code",
   "execution_count": null,
   "metadata": {},
   "outputs": [],
   "source": []
  },
  {
   "cell_type": "code",
   "execution_count": null,
   "metadata": {},
   "outputs": [],
   "source": []
  },
  {
   "cell_type": "markdown",
   "metadata": {},
   "source": [
    "### Problem 2: DNA strings\n",
    "A strand of DNA can be encoded as a string using an alphabet of the letters A, C, G, and T.\n",
    "\n",
    "&nbsp;&nbsp;&nbsp;&nbsp;(a) For a given number n, how many DNA strands of length n are possible?\n",
    "\n",
    "&nbsp;&nbsp;&nbsp;&nbsp;(b) Using `itertools.product`, write a Python function that on input n returns a list of all possible DNA strings of length n."
   ]
  },
  {
   "cell_type": "code",
   "execution_count": null,
   "metadata": {},
   "outputs": [],
   "source": []
  },
  {
   "cell_type": "code",
   "execution_count": null,
   "metadata": {},
   "outputs": [],
   "source": []
  },
  {
   "cell_type": "markdown",
   "metadata": {},
   "source": [
    "### Problem 3: Asian takeaway food\n",
    "You are hungry and want to get Asian takeaway food.  After choosing your favourite type of noodles and sauce, you may select 5 different kinds of vegetables from the following list: carrots, onions, mushrooms, pineapple, beansprouts, sweetcorn, broccoli, and pak choi.\n",
    "\n",
    "&nbsp;&nbsp;&nbsp;&nbsp;(a) How many vegetable combinations are possible?\n",
    "\n",
    "&nbsp;&nbsp;&nbsp;&nbsp;(b) Using `itertools.combinations`, write a Python function that on input a list of vegetables and a number n, returns a list of all possible combinations of n different vegetables from the list (where each combination should be represented as a string)."
   ]
  },
  {
   "cell_type": "code",
   "execution_count": null,
   "metadata": {},
   "outputs": [],
   "source": []
  },
  {
   "cell_type": "code",
   "execution_count": null,
   "metadata": {},
   "outputs": [],
   "source": []
  },
  {
   "cell_type": "markdown",
   "metadata": {},
   "source": [
    "### Problem 4: Ball-pit fun\n",
    "Our favourite indoor playground has lots of blue, red, and yellow balls.  \n",
    "\n",
    "&nbsp;&nbsp;&nbsp;&nbsp;(a) Suppose we take 10 balls at random.  How many colour combinations are possible?  (Here, <span style=\"color:blue\">⬤⬤⬤</span><span style=\"color:red\">⬤⬤⬤⬤⬤</span><span style=\"color:yellow\">⬤⬤</span> is the same combination as <span style=\"color:red\">⬤⬤</span><span style=\"color:yellow\">⬤</span><span style=\"color:blue\">⬤⬤</span><span style=\"color:red\">⬤⬤</span><span style=\"color:yellow\">⬤</span><span style=\"color:red\">⬤</span><span style=\"color:blue\">⬤</span>, for they both have 3 blue, 5 red, and 2 yellow balls).  \n",
    "\n",
    "&nbsp;&nbsp;&nbsp;&nbsp;(b) What is the general formula for n balls instead of just 10?\n",
    "\n",
    "&nbsp;&nbsp;&nbsp;&nbsp;(c) Using `itertools.combinations_with_replacement`, write a Python function that on input n returns a list of all colour combinations with n balls."
   ]
  },
  {
   "cell_type": "code",
   "execution_count": null,
   "metadata": {},
   "outputs": [],
   "source": []
  },
  {
   "cell_type": "code",
   "execution_count": null,
   "metadata": {},
   "outputs": [],
   "source": []
  },
  {
   "cell_type": "markdown",
   "metadata": {},
   "source": [
    "### Problem 5: List rearrangements of words\n",
    "Write a Python function that accepts a word (string) as input and returns a set containing all the rearrangements of the word, using the `itertools.permutations` function.\n",
    "\n",
    "Example: `rearrangements(\"aap\")` should return the set `{\"aap\", \"apa\", \"paa\"}`.\n",
    "\n",
    "You may want to use the `join` method of strings: if you have a list or tuple (or any other iterable) `L` of strings, you can concatenate them with: `\"\".join(L)`\n",
    "So `\"\".join([\"aap\", \"noot\", \"mies\"])` evaluates to `\"aapnootmies\"` \n",
    "and `\", \".join([\"aap\", \"noot\", \"mies\"])` would evaluate to `\"aap, noot, mies\"`."
   ]
  },
  {
   "cell_type": "code",
   "execution_count": null,
   "metadata": {},
   "outputs": [],
   "source": []
  },
  {
   "cell_type": "code",
   "execution_count": null,
   "metadata": {},
   "outputs": [],
   "source": []
  },
  {
   "cell_type": "markdown",
   "metadata": {},
   "source": [
    "### Problem 6*: Number puzzle\n",
    "The 6-digit number 321654 has the following remarkable properties:<br>\n",
    "&nbsp;&nbsp;&nbsp;&nbsp;(a) It consists precisely of the digits 1,2,3,4,5,6 without repetitions.<br>\n",
    "&nbsp;&nbsp;&nbsp;&nbsp;(b) The number formed by the first n digits is divisible by n for each applicable n: \n",
    "3 is divisible by 1, 32 is divisible by 2, 321 is divisible by 3, 3216 is divisible by 4, 32165 is divisible by 5, and 321654 is divisible by 6.\n",
    "\n",
    "Another 6-digit number with these properties is 123654.\n",
    "\n",
    "Using `itertools.permutations`, find a 9-digit number consisting of the digits 1,2,3,4,5,6,7,8,9 (without repetitions) with the same divisibility property: the number formed by the first n digits should be divisible by n for each applicable n."
   ]
  },
  {
   "cell_type": "code",
   "execution_count": null,
   "metadata": {},
   "outputs": [],
   "source": []
  },
  {
   "cell_type": "code",
   "execution_count": null,
   "metadata": {},
   "outputs": [],
   "source": []
  }
 ],
 "metadata": {
  "kernelspec": {
   "display_name": "Python 3",
   "language": "python",
   "name": "python3"
  },
  "language_info": {
   "codemirror_mode": {
    "name": "ipython",
    "version": 3
   },
   "file_extension": ".py",
   "mimetype": "text/x-python",
   "name": "python",
   "nbconvert_exporter": "python",
   "pygments_lexer": "ipython3",
   "version": "3.8.5"
  }
 },
 "nbformat": 4,
 "nbformat_minor": 4
}
