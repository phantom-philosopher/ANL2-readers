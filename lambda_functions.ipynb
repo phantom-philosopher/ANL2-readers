{
 "cells": [
  {
   "cell_type": "markdown",
   "metadata": {},
   "source": [
    "# Analysis 2: Foundations of modeling 2\n",
    "\n",
    "## Lambda functions\n",
    "\n",
    "A lambda function is a specific form of Python function.  In general, it behaves identically to any\n",
    "other Python function, with two exceptions: a) a lambda function has no name, \n",
    "b) although a lambda function can take any number of arguments, a lambda can have only one expression.\n",
    "\n",
    "To create a function in Python, you use the keyword `def`, which directs Python to create a function\n",
    "object and assign it to a name. To create an anonymous function, you use the keyword `lambda`,\n",
    "which tells Python to create an inline function and return it as a result.\n",
    "The syntax to create a lambda function in Python is:\n",
    "- keyword `lambda`,\n",
    "- zero or more arguments,\n",
    "- colon (:),\n",
    "- single expression (this expression will be automatically returned):\n",
    "\n",
    "```Python\n",
    "lambda arguments: expression\n",
    "```\n",
    "\n",
    "This document contains:\n",
    "- [Assign a function to a variable](#assign)\n",
    "- [Lambda functions](#lamfun)\n",
    "- [Functions as a value (argument)](#funasval)\n",
    "- [Lambda function as a return value](#funasret)\n",
    "\n",
    "---\n",
    "<a id='assign'></a>\n",
    "### Assign a function to a variable\n",
    "Before exploring lambdas, let’s revisit one concept.  Each Python function can be assigned to a\n",
    "variable.  For this example, we create two Python functions.  The first one is non-parametric and\n",
    "doesn’t return any value, while the second one is parametric and takes two numerical values to\n",
    "return their sum.\n",
    "##### Example – call functions via variables"
   ]
  },
  {
   "cell_type": "code",
   "execution_count": null,
   "metadata": {},
   "outputs": [],
   "source": [
    "def hello():  # This tells Python we define the \"hello\" function\n",
    "    print(\"Hello world\")  # Print statement outputting \"Hello world\"\n",
    "\n",
    "def add(val1, val2):  # This is the second function\n",
    "    result = val1 + val2  # We just add two values\n",
    "    return result  # and return the result\n",
    "\n",
    "hello()  # Standard function call; will print Hello world\"\n",
    "print(add(5, 3))  # Call function add() and print the return value"
   ]
  },
  {
   "cell_type": "code",
   "execution_count": null,
   "metadata": {},
   "outputs": [],
   "source": [
    "a = hello  # Here, we assign function hello to variable a\n",
    "b = add  # Note: we don't use parentheses; only function name\n",
    "\n",
    "a()  # With this line we call function that is assigned to var a\n",
    "print(b(5, 3))  # And do the same for var b"
   ]
  },
  {
   "cell_type": "markdown",
   "metadata": {},
   "source": [
    "---\n",
    "<a id='lamfun'></a>\n",
    "### Lambda functions\n",
    "In the Python console, any expression returned will be automatically printed to the standard output.\n",
    "We start with a simple example, a function that increments a numerical value.  A typical Python\n",
    "function would look like this:"
   ]
  },
  {
   "cell_type": "code",
   "execution_count": null,
   "metadata": {},
   "outputs": [],
   "source": [
    "def inc(x):  # A single-argument function that increments x by 1\n",
    "    return x+1  # Return incremented value\n",
    "    \n",
    "inc(6)  # Calling this function will return 7"
   ]
  },
  {
   "cell_type": "markdown",
   "metadata": {},
   "source": [
    "As the previous function had only one expression, we can also write it as lambda function:"
   ]
  },
  {
   "cell_type": "code",
   "execution_count": null,
   "metadata": {},
   "outputs": [],
   "source": [
    "lambda x: x+1"
   ]
  },
  {
   "cell_type": "markdown",
   "metadata": {},
   "source": [
    "If you do this in a Python console, it will simply tell you that it is a function.  In an IDE nothing would be visible.  Although this is the correct way of writing \n",
    "the `inc()` function as a lambda, we have two problems. \n",
    "How do we call the function, since it has no name?\n",
    "Also, how can we pass arguments to such a function?"
   ]
  },
  {
   "cell_type": "markdown",
   "metadata": {},
   "source": [
    "One option is to assign the lambda to a variable:"
   ]
  },
  {
   "cell_type": "code",
   "execution_count": null,
   "metadata": {},
   "outputs": [],
   "source": [
    "f = lambda x: x+1  # This will assign lambda function to variable f\n",
    "f(4)  # Call to function f; in console, this prints 5"
   ]
  },
  {
   "cell_type": "markdown",
   "metadata": {},
   "source": [
    "Another option is to pass values directly to a lambda function. This is done by stating them in\n",
    "parentheses right after lambda function. Although it works, it is not often used:"
   ]
  },
  {
   "cell_type": "code",
   "execution_count": null,
   "metadata": {},
   "outputs": [],
   "source": [
    "(lambda x: x+1)(4)  # This will pass 4 to x (x = 4) and the expression will return 5"
   ]
  },
  {
   "cell_type": "markdown",
   "metadata": {},
   "source": [
    "We mentioned that lambdas must have single expression, but can take zero to many arguments.\n",
    "Let’s experiment with those:"
   ]
  },
  {
   "cell_type": "code",
   "execution_count": null,
   "metadata": {},
   "outputs": [],
   "source": [
    "(lambda : True)()  # No arguments"
   ]
  },
  {
   "cell_type": "code",
   "execution_count": null,
   "metadata": {},
   "outputs": [],
   "source": [
    "(lambda x: x**2)(3)  # One argument"
   ]
  },
  {
   "cell_type": "code",
   "execution_count": null,
   "metadata": {},
   "outputs": [],
   "source": [
    "(lambda a, b: a if a > b else b)(5, 3)  # Two arguments; here we print the higher value"
   ]
  },
  {
   "cell_type": "code",
   "execution_count": null,
   "metadata": {},
   "outputs": [],
   "source": [
    "(lambda a, b, c: (a+b+c)/3)(1, 2, 3)  # Three arguments; we return the average value"
   ]
  },
  {
   "cell_type": "markdown",
   "metadata": {},
   "source": [
    "Lambdas don’t necessarily return a single value. We could have also used lambda to generate\n",
    "list from all integers within a desired range:"
   ]
  },
  {
   "cell_type": "code",
   "execution_count": null,
   "metadata": {},
   "outputs": [],
   "source": [
    "(lambda p, q: [i for i in range(p, q+1)])(10, 50)"
   ]
  },
  {
   "cell_type": "markdown",
   "metadata": {},
   "source": [
    "#### Experiment\n",
    "- Try to write some of the single-expression functions you encountered so far as lambdas."
   ]
  },
  {
   "cell_type": "code",
   "execution_count": null,
   "metadata": {},
   "outputs": [],
   "source": []
  },
  {
   "cell_type": "code",
   "execution_count": null,
   "metadata": {},
   "outputs": [],
   "source": []
  },
  {
   "cell_type": "code",
   "execution_count": null,
   "metadata": {},
   "outputs": [],
   "source": []
  },
  {
   "cell_type": "markdown",
   "metadata": {},
   "source": [
    "---\n",
    "<a id='funasval'></a>\n",
    "### Functions as a value (argument)\n",
    "The examples above demonstrated everything that is needed to know about lambda functions.\n",
    "However, those examples are not something that is encountered in practice, as they serve for\n",
    "illustration purposes, and don’t offer any additional value.  In this section, we will investigate\n",
    "how to use functions as values (arguments) inside of other functions.\n",
    "#### Example – summation\n",
    "Let’s start with a simple sum: \n",
    "$\\sum_{k=a}^bk$.\n",
    "This expression says that we sum all $k$'s after the sigma\n",
    "($\\sum$) sign, such that the first value $k$ takes is $a$, and goes on until $b$. \n",
    "Let $a=1$ and $b=5$, then:\n",
    "$$\n",
    "\\sum_{k=1}^5k = 1 + 2 + 3 + 4 + 5 = 15\n",
    "$$\n",
    "We can write this as a Python function:"
   ]
  },
  {
   "cell_type": "code",
   "execution_count": null,
   "metadata": {},
   "outputs": [],
   "source": [
    "def sum_range(a, b):\n",
    "    s = 0\n",
    "    for k in range(a, b+1):\n",
    "        s += k\n",
    "    return s\n",
    "\n",
    "print(sum_range(1,5))\n",
    "print(sum_range(10,20))"
   ]
  },
  {
   "cell_type": "markdown",
   "metadata": {},
   "source": [
    "Next, consider the sum of a function: \n",
    "$\\sum_{k=a}^bf(k)$.  Let the function be $f(x) = 3x − 1$, and the interval $[1, 3]$. Then this sum will be:\n",
    "$$\n",
    "\\sum_{k=1}^3 f(k) \\,=\\, f(1) + f(2) + f(3) \\,=\\, \n",
    "(3\\!\\cdot\\!1 - 1) + (3\\!\\cdot\\!2 - 1) + (3\\!\\cdot\\!3 - 1) \\,=\\,\n",
    "2 + 5 + 8 \\,=\\, 15\n",
    "$$\n",
    "\n",
    "We can use `lambda` to express the linear function $f(x) = 3x − 1$, and then pass it as an argument\n",
    "to a modified summation function:"
   ]
  },
  {
   "cell_type": "code",
   "execution_count": null,
   "metadata": {},
   "outputs": [],
   "source": [
    "f = lambda x: 3*x - 1\n",
    "\n",
    "def summation(f, a, b):\n",
    "    s = 0\n",
    "    for k in range(a, b+1):\n",
    "        s += f(k)\n",
    "    return s\n",
    "\n",
    "value = summation(f, 1, 3)\n",
    "print(value)"
   ]
  },
  {
   "cell_type": "markdown",
   "metadata": {},
   "source": [
    "#### Experiment\n",
    "- Change the function $f(x) = 3x – 1$ to any other linear function.\n",
    "- Try using `lambda` to create a quadratic function and pass it as an argument."
   ]
  },
  {
   "cell_type": "code",
   "execution_count": null,
   "metadata": {},
   "outputs": [],
   "source": []
  },
  {
   "cell_type": "code",
   "execution_count": null,
   "metadata": {},
   "outputs": [],
   "source": []
  },
  {
   "cell_type": "code",
   "execution_count": null,
   "metadata": {},
   "outputs": [],
   "source": []
  },
  {
   "cell_type": "markdown",
   "metadata": {},
   "source": [
    "As lambdas are inline functions, we can write them directly as arguments.  Assume we want to\n",
    "use the function $f(x) = x^2$ in the same summation."
   ]
  },
  {
   "cell_type": "code",
   "execution_count": null,
   "metadata": {},
   "outputs": [],
   "source": [
    "def summation(f, a, b):\n",
    "    s = 0\n",
    "    for k in range(a, b+1):\n",
    "        s += f(k)\n",
    "    return s\n",
    "\n",
    "value = summation(lambda x: x**2, 1, 10)\n",
    "print(value)"
   ]
  },
  {
   "cell_type": "markdown",
   "metadata": {},
   "source": [
    "---\n",
    "<a id='funasret'></a>\n",
    "### Lambda function as a return value\n",
    "We have seen how to use lambda functions as arguments for other functions. In a similar\n",
    "manner, we can write Python functions that will create and return lambda functions.  Assume\n",
    "that we want to evaluate the linear function $f(x) = 3x − 1$ for specific x. We can write:"
   ]
  },
  {
   "cell_type": "code",
   "execution_count": null,
   "metadata": {},
   "outputs": [],
   "source": [
    "def lin_1(x):\n",
    "    return 3*x - 1\n",
    "\n",
    "y1 = lin_1(0)\n",
    "print(y1)\n",
    "\n",
    "y2 = lin_1(5)\n",
    "print(y2)"
   ]
  },
  {
   "cell_type": "markdown",
   "metadata": {},
   "source": [
    "or we can use lambda:"
   ]
  },
  {
   "cell_type": "code",
   "execution_count": null,
   "metadata": {},
   "outputs": [],
   "source": [
    "f1 = lambda x: 3*x - 1\n",
    "\n",
    "y = f1(0)\n",
    "print(y)\n",
    "\n",
    "y = f1(5)\n",
    "print(y)"
   ]
  },
  {
   "cell_type": "markdown",
   "metadata": {},
   "source": [
    "Next, let’s consider a general case.  If we have a linear function expressed in the slope-intercept\n",
    "form (i.e. $f(x) = mx+b$ where $m$ and $b$ are given), we want to evaluate it for some specific $x$ value."
   ]
  },
  {
   "cell_type": "code",
   "execution_count": null,
   "metadata": {},
   "outputs": [],
   "source": [
    "def lin_func_slope_intercept(x, m, b):\n",
    "    return m * x + b\n",
    "\n",
    "# Test it for x=0 and x=5 for 3x-1\n",
    "print( lin_func_slope_intercept(0, 3, -1) )\n",
    "print( lin_func_slope_intercept(5, 3, -1) )\n",
    "\n",
    "# Test it for x=0 and x=5 for 2x+2\n",
    "print( lin_func_slope_intercept(0, 2, 2) )\n",
    "print( lin_func_slope_intercept(5, 2, 2) )"
   ]
  },
  {
   "cell_type": "markdown",
   "metadata": {},
   "source": [
    "#### Example – return lambda\n",
    "\n",
    "The same can be accomplished if we write a function that will for given $m$ (slope) and $b$ \n",
    "($y$-intercept) return a lambda function."
   ]
  },
  {
   "cell_type": "code",
   "execution_count": null,
   "metadata": {},
   "outputs": [],
   "source": [
    "def lin_func(m, b):\n",
    "    \"\"\"Create a linear function mx + b\"\"\"\n",
    "    return lambda x: m*x + b\n",
    "\n",
    "# Create two linear functions; f1 = 3x-1 and f2 = 2x+2\n",
    "f1 = lin_func(3, -1)\n",
    "f2 = lin_func(2, 2)\n",
    "\n",
    "# Call lambdas and print values\n",
    "print( f1(0) )\n",
    "print( f1(5) )\n",
    "print( f2(0) )\n",
    "print( f2(5) )"
   ]
  },
  {
   "cell_type": "markdown",
   "metadata": {},
   "source": [
    "Although, the result is the same, notice how the code is cleaner and easier to manage. This\n",
    "time we have function `lin_func()` that creates a lambda for given $m$ and $b$, and we use it to\n",
    "create two linear functions, $3x-1$ and $2x+2$, and assign them to variables `f1` and `f2`. As both `f1`\n",
    "and `f2` contain their specific slope and $y$-intercept, the only required argument that must be\n",
    "passed is the $x$ value, where we want to evaluate those functions. In our case, that is $x=0$ and\n",
    "$x=5$.\n",
    "#### Experiment\n",
    "- Write a function called `create_die` that takes one input argument `n` – the number of sides of a die,\n",
    "and returns a (lambda) function that simulates one roll of an $n$-sided die.\n",
    "- Write a function `get_freq(die, target, no_rolls)` that rolls an $n$-sided die (passed as the first\n",
    "argument) `no_rolls` times, counts how many times that roll was equal to the `target`, and\n",
    "returns the frequency."
   ]
  },
  {
   "cell_type": "code",
   "execution_count": null,
   "metadata": {},
   "outputs": [],
   "source": []
  },
  {
   "cell_type": "code",
   "execution_count": null,
   "metadata": {},
   "outputs": [],
   "source": []
  }
 ],
 "metadata": {
  "kernelspec": {
   "display_name": "Python 3",
   "language": "python",
   "name": "python3"
  },
  "language_info": {
   "codemirror_mode": {
    "name": "ipython",
    "version": 3
   },
   "file_extension": ".py",
   "mimetype": "text/x-python",
   "name": "python",
   "nbconvert_exporter": "python",
   "pygments_lexer": "ipython3",
   "version": "3.8.5"
  }
 },
 "nbformat": 4,
 "nbformat_minor": 4
}
