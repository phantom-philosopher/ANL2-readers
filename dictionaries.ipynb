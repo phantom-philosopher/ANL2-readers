{
 "cells": [
  {
   "cell_type": "markdown",
   "metadata": {},
   "source": [
    "# Analysis 2: Foundations of modeling 2\n",
    "\n",
    "## Dictionaries\n",
    "\n",
    "A dictionary is a collection which is ordered, mutable, and indexed. In Python dictionaries are written with curly braces, and they have keys and values.  To summarize, a dictionary consists of a collection of key-value pairs (a.k.a. items). Each key-value pair maps the key to its associated value. \n",
    "\n",
    "<a id='def'></a>\n",
    "### Dictionary definition - syntax\n",
    "You can define a dictionary by enclosing a comma-separated list of key-value pairs in curly braces ({}). A colon (:) separates each key from its associated value:\n",
    "```Python\n",
    "<dictionary> = {<key1>: <value1>, <key2>: <value2>,...}\n",
    "```\n",
    "<a id='call'></a>\n",
    "\n",
    "### Accessing and updating values in a dictionary - syntax\n",
    "To access dictionary elements, you can use the familiar square brackets along with the key to obtain its value:\n",
    "```Python\n",
    "<dictionary>[<key1>]  # Will access the value associated with the key <key1>\n",
    "<dictionary>[<key2>] = <value>  # Will update the value associated with the key <key2>\n",
    "```\n",
    "<a id='call'></a>\n"
   ]
  },
  {
   "cell_type": "code",
   "execution_count": 1,
   "metadata": {
    "scrolled": true
   },
   "outputs": [],
   "source": [
    "# This is a code cell.  To execute this cell, click on it, and press Shift+Enter\n",
    "# A dictionary definition for address\n",
    "address = {'street name': 'Wijnhaven', 'house number': 107, 'postcode': '3011WN', 'city': 'Rotterdam'}\n"
   ]
  },
  {
   "cell_type": "markdown",
   "metadata": {},
   "source": [
    "We have just defined a dictionary, we can print the contents as follows:"
   ]
  },
  {
   "cell_type": "code",
   "execution_count": null,
   "metadata": {},
   "outputs": [],
   "source": [
    "# Another code cell.  Again, click on it, press Shift+Enter, and see what happens.\n",
    "\n",
    "print(address) # This line will print the contents of the dictonary named \"address\""
   ]
  },
  {
   "cell_type": "markdown",
   "metadata": {},
   "source": [
    "Now we will print a value from the dictionary using a key:"
   ]
  },
  {
   "cell_type": "code",
   "execution_count": null,
   "metadata": {},
   "outputs": [],
   "source": [
    "print(address['house number'])"
   ]
  },
  {
   "cell_type": "code",
   "execution_count": null,
   "metadata": {},
   "outputs": [],
   "source": [
    "address['house number'] = 103  # Now we update the value for the key 'house number'\n",
    "print(address['house number'])"
   ]
  },
  {
   "cell_type": "markdown",
   "metadata": {},
   "source": [
    "There is another way to access the values: using get() method:\n",
    "```Python\n",
    "<dictionary>.get(<key1>) # will return the value associcated with the key <key1>\n",
    "```\n",
    "<a id='call'></a>"
   ]
  },
  {
   "cell_type": "code",
   "execution_count": null,
   "metadata": {},
   "outputs": [],
   "source": [
    "print(address.get('house number'))"
   ]
  },
  {
   "cell_type": "markdown",
   "metadata": {},
   "source": [
    "#### Experiment\n",
    "- In the code cell below type: `address['city'] = 'Amsterdam'` and then `print(address)` observe the changes in the dictionary.\n",
    "- Also try to update the postcode with another value."
   ]
  },
  {
   "cell_type": "code",
   "execution_count": null,
   "metadata": {},
   "outputs": [],
   "source": [
    "# Here are two empty code cells; use them to experiment.  \n",
    "# You can type any Python code in here, and remember: execute it by pressing Shift+Enter.\n",
    "\n"
   ]
  },
  {
   "cell_type": "code",
   "execution_count": null,
   "metadata": {},
   "outputs": [],
   "source": []
  },
  {
   "cell_type": "markdown",
   "metadata": {},
   "source": [
    "### Adding  values in a dictionary - syntax\n",
    "To add a new pair we use the same syntax, if the key doesn't exist in the dicitonary a new pair will be added.\n",
    "```Python\n",
    "mydictionary[<key>] = <value> # will update the value associcated with the key <key2>\n",
    "```\n",
    "<a id='call'></a>"
   ]
  },
  {
   "cell_type": "code",
   "execution_count": null,
   "metadata": {},
   "outputs": [],
   "source": [
    " # Since 'country' doesn't exist in the dictionary, following line adds a new dictionary pair.\n",
    "address['country'] = 'the Netherlands'\n",
    "\n",
    "# Following line will print the contents of the dictonary named \"address\"\n",
    "print(address)"
   ]
  },
  {
   "cell_type": "markdown",
   "metadata": {},
   "source": [
    "### Deleting values in a dictionary - syntax\n",
    "\n",
    "```Python\n",
    "mydictionary.pop(<key>)   # will return the vaue of the <key> and remove the value associated with <key>\n",
    "\n",
    "del mydictionary[<key>];  # remove entry with key\n",
    "\n",
    "mydictionary.clear();     # remove all entries in the dictionary, dictionary still exists but becomes empty.\n",
    "\n",
    "del mydictionary ;        # delete entire dictionary\n",
    "```\n",
    "<a id='call'></a>"
   ]
  },
  {
   "cell_type": "code",
   "execution_count": null,
   "metadata": {},
   "outputs": [],
   "source": [
    "# Following line prints the value associated with the key 'street name'\n",
    "print(address.pop('street name'))"
   ]
  },
  {
   "cell_type": "code",
   "execution_count": null,
   "metadata": {},
   "outputs": [],
   "source": [
    "print(address)  # Will print the updated contents of the dictionary address: the street name has been removed."
   ]
  },
  {
   "cell_type": "code",
   "execution_count": null,
   "metadata": {},
   "outputs": [],
   "source": [
    "del address['postcode']  # Remove entry with key\n",
    "print(address)"
   ]
  },
  {
   "cell_type": "markdown",
   "metadata": {},
   "source": [
    "#### Experiment\n",
    "- In the code cell below type: `address.clear()` and then print the contents of the dictionary with `print(address) ` What happens?\n",
    "- Also try to delete the entire dictionary with `del address` and then try to print the contents"
   ]
  },
  {
   "cell_type": "code",
   "execution_count": null,
   "metadata": {},
   "outputs": [],
   "source": [
    "# Here are two empty code cells; use them to experiment.  \n",
    "# You can type any Python code in here, and remember: execute it by pressing Shift+Enter.\n",
    "\n"
   ]
  },
  {
   "cell_type": "code",
   "execution_count": null,
   "metadata": {},
   "outputs": [],
   "source": []
  },
  {
   "cell_type": "code",
   "execution_count": null,
   "metadata": {},
   "outputs": [],
   "source": [
    "# Let's define the dictionary again to proceed with other examples:\n",
    "address = {'street name': 'Wijnhaven', 'house number': 107, 'postcode': '3011WN', 'city': 'Rotterdam'}"
   ]
  },
  {
   "cell_type": "markdown",
   "metadata": {},
   "source": [
    "### Properties of Dictionary Keys\n",
    "Dictionary values have no restrictions. They can be any arbitrary Python object, either standard objects or user-defined objects. However, the same is not true for the keys.\n",
    "\n",
    "There are two important points to remember about dictionary keys:\n",
    "\n",
    "\n",
    "1. More than one entry per key not allowed. Which means no duplicate key is allowed. When duplicate keys encountered during assignment, the last assignment wins. \n",
    "\n",
    "2. Keys must be immutable. Which means you can use strings, numbers or tuples as dictionary keys but immutable types are not allowed (like lists)\n"
   ]
  },
  {
   "cell_type": "markdown",
   "metadata": {},
   "source": [
    "### Check if key exists\n",
    "To determine if a specified key is present in a dictionary use the `in` keyword. For example:\n",
    "```Python\n",
    "if <key> in <dictionary> # line will be `true` if the key exists in the dictionary otherwise `false`\n",
    "```"
   ]
  },
  {
   "cell_type": "code",
   "execution_count": null,
   "metadata": {},
   "outputs": [],
   "source": [
    "if 'city' in address:\n",
    "    print(address['city'])"
   ]
  },
  {
   "cell_type": "markdown",
   "metadata": {},
   "source": [
    "### Dictionary length\n",
    "We use `len()` to get the number of key-value pairs in the dictionary. As follows in the example:"
   ]
  },
  {
   "cell_type": "code",
   "execution_count": null,
   "metadata": {},
   "outputs": [],
   "source": [
    "print(address)\n",
    "print(len(address))"
   ]
  },
  {
   "cell_type": "markdown",
   "metadata": {},
   "source": [
    "### Retrieving keys, items and values\n",
    "The method `keys()` returns the `dict_keys` object consisting of a set of keys and the order will be the addition of the pairs. Similarly `values()` and `items()`  return the `dict_values`  and `dict_items` objects respectively."
   ]
  },
  {
   "cell_type": "code",
   "execution_count": null,
   "metadata": {},
   "outputs": [],
   "source": [
    "# Following line prints the dict_keys object consisting of a set of keys and the order will be the addition of the pairs.\n",
    "print(address.keys()) \n",
    "# Following line prints the dict_values object consisting of a set of values and the order will be the addition of the pairs.\n",
    "print(address.values())\n",
    "# Following line prints the dict_items object consisting of a set of key-value pairs and the order will be the addition of the pairs.\n",
    "print(address.items())"
   ]
  },
  {
   "cell_type": "code",
   "execution_count": null,
   "metadata": {},
   "outputs": [],
   "source": []
  },
  {
   "cell_type": "code",
   "execution_count": null,
   "metadata": {},
   "outputs": [],
   "source": []
  },
  {
   "cell_type": "code",
   "execution_count": null,
   "metadata": {},
   "outputs": [],
   "source": []
  },
  {
   "cell_type": "markdown",
   "metadata": {},
   "source": [
    "### Iteration Through a  Dictionary\n",
    "\n",
    "You can loop through a dictionary by using a `for` loop.\n",
    "Since our index is based on the key, during iteration the order is based on the order of addition of the pairs (since python 3.7).\n",
    "\n",
    "Let's check the following examples:\n"
   ]
  },
  {
   "cell_type": "code",
   "execution_count": null,
   "metadata": {},
   "outputs": [],
   "source": [
    "# We can iterate with the key through the dictionary. \n",
    "for key in address:\n",
    "    print(key)"
   ]
  },
  {
   "cell_type": "code",
   "execution_count": null,
   "metadata": {},
   "outputs": [],
   "source": [
    "# Similar to the above example we can also print all values one by one. \n",
    "# The following piece of code iterates through dict_values object and prints them in the order of their addition to the dictionary.\n",
    "for value in address.values():\n",
    "    print(value)"
   ]
  },
  {
   "cell_type": "code",
   "execution_count": null,
   "metadata": {},
   "outputs": [],
   "source": [
    "# We can also iterate through dict_keys object and reach the associated value using the key.\n",
    "# Again the order is based on the addition moment to the dictionary.\n",
    "for key in address:\n",
    "    print(address[key])"
   ]
  },
  {
   "cell_type": "code",
   "execution_count": null,
   "metadata": {},
   "outputs": [],
   "source": [
    "# Also possible to loop through dict_items object and print the key value pairs. \n",
    "# The items wil be printed in the order of addition to the dictionary.\n",
    "for key, value in address.items():\n",
    "    print(key, \":\", value)"
   ]
  },
  {
   "cell_type": "code",
   "execution_count": null,
   "metadata": {},
   "outputs": [],
   "source": []
  }
 ],
 "metadata": {
  "kernelspec": {
   "display_name": "Python 3",
   "language": "python",
   "name": "python3"
  },
  "language_info": {
   "codemirror_mode": {
    "name": "ipython",
    "version": 3
   },
   "file_extension": ".py",
   "mimetype": "text/x-python",
   "name": "python",
   "nbconvert_exporter": "python",
   "pygments_lexer": "ipython3",
   "version": "3.7.1"
  }
 },
 "nbformat": 4,
 "nbformat_minor": 4
}
