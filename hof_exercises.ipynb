{
 "cells": [
  {
   "cell_type": "markdown",
   "metadata": {},
   "source": [
    "# Analysis 2: Foundations of modeling 2\n",
    "\n",
    "## Higher-order functions: exercises\n",
    "\n",
    "### Problem 1: Cubic functions and other polynomials\n",
    "(a) Write a function `cubic(a, b, c, d)` that inputs 4 parameters and outputs the cubic function $ax^3+bx^2+cx+d$.  \n",
    "\n",
    "(b*) More generally, write a function `polynomial(a0, a1, ..., an)` that accepts an arbitrary number of parameters and returns the polynomial function $a_0x^n+a_1x^{n-1}+...+a_n$."
   ]
  },
  {
   "cell_type": "code",
   "execution_count": null,
   "metadata": {},
   "outputs": [],
   "source": []
  },
  {
   "cell_type": "code",
   "execution_count": null,
   "metadata": {},
   "outputs": [],
   "source": []
  },
  {
   "cell_type": "code",
   "execution_count": null,
   "metadata": {},
   "outputs": [],
   "source": []
  },
  {
   "cell_type": "markdown",
   "metadata": {},
   "source": [
    "### Problem 2: Sorting with a lambda key\n",
    "Write a function `sortmirrored(strings)` that accepts a list of strings as input and sorts them in a way that is alphabetical when you read each string backwards.  \n",
    "\n",
    "For instance, if `strings` is `['aap', 'noot', 'mies', 'wim', 'zus', 'jet']`, then `sortmirrored(strings)` should turn it into `['wim', 'aap', 'mies', 'zus', 'jet', 'noot']`.  \n",
    "\n",
    "To do this, use the `sort` method of a list, and give the optional parameter `key` an appropriate lambda function."
   ]
  },
  {
   "cell_type": "code",
   "execution_count": null,
   "metadata": {},
   "outputs": [],
   "source": []
  },
  {
   "cell_type": "code",
   "execution_count": null,
   "metadata": {},
   "outputs": [],
   "source": []
  },
  {
   "cell_type": "markdown",
   "metadata": {},
   "source": [
    "### Problem 3: Plot a function\n",
    "Write a function in Python that takes a pure function f(x) as an argument and plots it using matplotlib.\n",
    "Test the function by using it to plot 2 linear and 1 quadratic function in the same plot.\n",
    "\n",
    "Extra challenge: Make 4 subplots, and in the first subplot, plot all 3 functions, and in the remaining subplots, plot each function independently."
   ]
  },
  {
   "cell_type": "code",
   "execution_count": null,
   "metadata": {},
   "outputs": [],
   "source": []
  },
  {
   "cell_type": "code",
   "execution_count": null,
   "metadata": {},
   "outputs": [],
   "source": []
  },
  {
   "cell_type": "markdown",
   "metadata": {},
   "source": [
    "### Problem 4: Function composition\n",
    "Write a lambda function that inputs two functions f(x) and g(x) of one variable and outputs the composition (f∘g)(x) = f(g(x)). "
   ]
  },
  {
   "cell_type": "code",
   "execution_count": null,
   "metadata": {},
   "outputs": [],
   "source": []
  },
  {
   "cell_type": "code",
   "execution_count": null,
   "metadata": {},
   "outputs": [],
   "source": []
  },
  {
   "cell_type": "markdown",
   "metadata": {},
   "source": [
    "### Problem 5: Product of function values\n",
    "Write a function `product(f, a, b)` that takes a function f and two integers a and b as input and returns the product $\\prod_{n=a}^bf(n)$ (note: this is  $f(a) \\cdot f(a+1) \\cdot f(a+2) \\cdot \\ldots \\cdot f(b)$.)"
   ]
  },
  {
   "cell_type": "code",
   "execution_count": null,
   "metadata": {},
   "outputs": [],
   "source": []
  },
  {
   "cell_type": "code",
   "execution_count": null,
   "metadata": {},
   "outputs": [],
   "source": []
  },
  {
   "cell_type": "markdown",
   "metadata": {},
   "source": [
    "### Problem 6: uppercase decorator\n",
    "Write a decorator that decorates a function returning a string and turns this string into an uppercase string.\n",
    "Example:\n",
    "```Python\n",
    "@uppercase\n",
    "def greeting(s):\n",
    "    return \"Hello, \" + s\n",
    "\n",
    "greeting(\"Johan\")\n",
    "```\n",
    "should output `\"HELLO, JOHAN\"`"
   ]
  },
  {
   "cell_type": "code",
   "execution_count": null,
   "metadata": {},
   "outputs": [],
   "source": []
  },
  {
   "cell_type": "code",
   "execution_count": null,
   "metadata": {},
   "outputs": [],
   "source": []
  },
  {
   "cell_type": "markdown",
   "metadata": {},
   "source": [
    "### Problem 7*: debugging decorator\n",
    "Write a decorator `@debug` that, when applied to any function, prints the name, input, and output of that function to the screen every time the function is called.  So the code example\n",
    "\n",
    "```Python\n",
    "@debug\n",
    "def square(x):\n",
    "    return x*x\n",
    "\n",
    "square(5)\n",
    "```\n",
    "\n",
    "should output something like:\n",
    "```\n",
    "Entering function 'square' with arguments (5,), {}\n",
    "Function 'square' returned 25\n",
    "25\n",
    "```"
   ]
  },
  {
   "cell_type": "code",
   "execution_count": null,
   "metadata": {},
   "outputs": [],
   "source": []
  },
  {
   "cell_type": "code",
   "execution_count": null,
   "metadata": {},
   "outputs": [],
   "source": []
  },
  {
   "cell_type": "code",
   "execution_count": null,
   "metadata": {},
   "outputs": [],
   "source": []
  }
 ],
 "metadata": {
  "kernelspec": {
   "display_name": "Python 3",
   "language": "python",
   "name": "python3"
  },
  "language_info": {
   "codemirror_mode": {
    "name": "ipython",
    "version": 3
   },
   "file_extension": ".py",
   "mimetype": "text/x-python",
   "name": "python",
   "nbconvert_exporter": "python",
   "pygments_lexer": "ipython3",
   "version": "3.8.5"
  }
 },
 "nbformat": 4,
 "nbformat_minor": 4
}
